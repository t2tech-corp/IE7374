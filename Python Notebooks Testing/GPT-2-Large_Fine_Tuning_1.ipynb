{
 "cells": [
  {
   "cell_type": "markdown",
   "id": "91dd2e5a-553b-40d3-808d-f816cf82acce",
   "metadata": {},
   "source": [
    "#### GPT-2 Large Fine Tuning with LoRA"
   ]
  },
  {
   "cell_type": "markdown",
   "id": "18c10fb4-b493-4d36-aaf6-0128cfb01e8a",
   "metadata": {},
   "source": [
    "#### Project Overview:\n",
    "\n",
    "*  Dataset Loading and Filtering: Load the merve/poetry dataset and filter for age='Renaissance' and type='love'.\n",
    "*  Data Preparation: Tokenize the filtered poems and prepare them for input to GPT-2. This will involve creating input IDs and attention masks.\n",
    "*  Model Loading: Load the pre-trained GPT-2 model.\n",
    "*  LoRA Configuration: Set up LoRA (Low-Rank Adaptation) for efficient fine-tuning.\n",
    "*  Fine-tuning: Train the GPT-2 model with LoRA on our filtered poetry dataset.\n",
    "*  Text Generation (Evaluation): After fine-tuning, generate new poems to assess the model's ability to capture the style of Renaissance love poetry."
   ]
  },
  {
   "cell_type": "markdown",
   "id": "f054b31e-3329-42f9-901c-eb2b6bc379fa",
   "metadata": {},
   "source": [
    "#### Python Libraries Needed:\n",
    "\n",
    "*  transformers: For GPT-2 model, tokenizers, and training utilities.\n",
    "*  datasets: For loading and managing the merve/poetry dataset.\n",
    "*  peft: For implementing LoRA.\n",
    "*  torch: The underlying deep learning framework (Hugging Face Transformers is built on PyTorch)."
   ]
  },
  {
   "cell_type": "code",
   "execution_count": 1,
   "id": "3813b7f5-3a72-4f0e-be74-cda2e23d64c0",
   "metadata": {},
   "outputs": [
    {
     "name": "stdout",
     "output_type": "stream",
     "text": [
      "Looking in indexes: https://pypi.org/simple, https://pypi.ngc.nvidia.com\n",
      "Requirement already satisfied: safetensors in c:\\users\\tterr\\anaconda3\\lib\\site-packages (0.5.2)\n"
     ]
    }
   ],
   "source": [
    "!pip install safetensors"
   ]
  },
  {
   "cell_type": "code",
   "execution_count": 3,
   "id": "2b5d14e7-c4a7-4849-9c5f-87e6a2fc19ec",
   "metadata": {},
   "outputs": [
    {
     "name": "stdout",
     "output_type": "stream",
     "text": [
      "Looking in indexes: https://pypi.org/simple, https://pypi.ngc.nvidia.com\n",
      "Requirement already satisfied: transformers[torch] in c:\\users\\tterr\\anaconda3\\lib\\site-packages (4.48.3)\n",
      "Requirement already satisfied: filelock in c:\\users\\tterr\\anaconda3\\lib\\site-packages (from transformers[torch]) (3.13.1)\n",
      "Requirement already satisfied: huggingface-hub<1.0,>=0.24.0 in c:\\users\\tterr\\anaconda3\\lib\\site-packages (from transformers[torch]) (0.28.1)\n",
      "Requirement already satisfied: numpy>=1.17 in c:\\users\\tterr\\anaconda3\\lib\\site-packages (from transformers[torch]) (1.26.4)\n",
      "Requirement already satisfied: packaging>=20.0 in c:\\users\\tterr\\anaconda3\\lib\\site-packages (from transformers[torch]) (23.2)\n",
      "Requirement already satisfied: pyyaml>=5.1 in c:\\users\\tterr\\anaconda3\\lib\\site-packages (from transformers[torch]) (6.0.1)\n",
      "Requirement already satisfied: regex!=2019.12.17 in c:\\users\\tterr\\anaconda3\\lib\\site-packages (from transformers[torch]) (2023.10.3)\n",
      "Requirement already satisfied: requests in c:\\users\\tterr\\anaconda3\\lib\\site-packages (from transformers[torch]) (2.32.2)\n",
      "Requirement already satisfied: tokenizers<0.22,>=0.21 in c:\\users\\tterr\\anaconda3\\lib\\site-packages (from transformers[torch]) (0.21.0)\n",
      "Requirement already satisfied: safetensors>=0.4.1 in c:\\users\\tterr\\anaconda3\\lib\\site-packages (from transformers[torch]) (0.5.2)\n",
      "Requirement already satisfied: tqdm>=4.27 in c:\\users\\tterr\\anaconda3\\lib\\site-packages (from transformers[torch]) (4.66.4)\n",
      "Requirement already satisfied: torch>=2.0 in c:\\users\\tterr\\anaconda3\\lib\\site-packages (from transformers[torch]) (2.6.0+cu118)\n",
      "Requirement already satisfied: accelerate>=0.26.0 in c:\\users\\tterr\\anaconda3\\lib\\site-packages (from transformers[torch]) (1.8.1)\n",
      "Requirement already satisfied: psutil in c:\\users\\tterr\\anaconda3\\lib\\site-packages (from accelerate>=0.26.0->transformers[torch]) (5.9.0)\n",
      "Requirement already satisfied: fsspec>=2023.5.0 in c:\\users\\tterr\\anaconda3\\lib\\site-packages (from huggingface-hub<1.0,>=0.24.0->transformers[torch]) (2024.3.1)\n",
      "Requirement already satisfied: typing-extensions>=3.7.4.3 in c:\\users\\tterr\\anaconda3\\lib\\site-packages (from huggingface-hub<1.0,>=0.24.0->transformers[torch]) (4.12.2)\n",
      "Requirement already satisfied: networkx in c:\\users\\tterr\\anaconda3\\lib\\site-packages (from torch>=2.0->transformers[torch]) (3.2.1)\n",
      "Requirement already satisfied: jinja2 in c:\\users\\tterr\\anaconda3\\lib\\site-packages (from torch>=2.0->transformers[torch]) (3.1.4)\n",
      "Requirement already satisfied: setuptools in c:\\users\\tterr\\anaconda3\\lib\\site-packages (from torch>=2.0->transformers[torch]) (69.5.1)\n",
      "Requirement already satisfied: sympy==1.13.1 in c:\\users\\tterr\\anaconda3\\lib\\site-packages (from torch>=2.0->transformers[torch]) (1.13.1)\n",
      "Requirement already satisfied: mpmath<1.4,>=1.1.0 in c:\\users\\tterr\\anaconda3\\lib\\site-packages (from sympy==1.13.1->torch>=2.0->transformers[torch]) (1.3.0)\n",
      "Requirement already satisfied: colorama in c:\\users\\tterr\\anaconda3\\lib\\site-packages (from tqdm>=4.27->transformers[torch]) (0.4.6)\n",
      "Requirement already satisfied: charset-normalizer<4,>=2 in c:\\users\\tterr\\anaconda3\\lib\\site-packages (from requests->transformers[torch]) (2.0.4)\n",
      "Requirement already satisfied: idna<4,>=2.5 in c:\\users\\tterr\\anaconda3\\lib\\site-packages (from requests->transformers[torch]) (3.7)\n",
      "Requirement already satisfied: urllib3<3,>=1.21.1 in c:\\users\\tterr\\anaconda3\\lib\\site-packages (from requests->transformers[torch]) (1.26.20)\n",
      "Requirement already satisfied: certifi>=2017.4.17 in c:\\users\\tterr\\anaconda3\\lib\\site-packages (from requests->transformers[torch]) (2024.12.14)\n",
      "Requirement already satisfied: MarkupSafe>=2.0 in c:\\users\\tterr\\anaconda3\\lib\\site-packages (from jinja2->torch>=2.0->transformers[torch]) (2.1.3)\n"
     ]
    }
   ],
   "source": [
    "!pip install accelerate>=0.26.0\n",
    "!pip install transformers[torch]"
   ]
  },
  {
   "cell_type": "code",
   "execution_count": 5,
   "id": "9fc09685-3f53-4c71-a8bd-c7c8ffded675",
   "metadata": {},
   "outputs": [
    {
     "name": "stdout",
     "output_type": "stream",
     "text": [
      "WARNING:tensorflow:From C:\\Users\\tterr\\anaconda3\\Lib\\site-packages\\tf_keras\\src\\losses.py:2976: The name tf.losses.sparse_softmax_cross_entropy is deprecated. Please use tf.compat.v1.losses.sparse_softmax_cross_entropy instead.\n",
      "\n"
     ]
    }
   ],
   "source": [
    "import torch\n",
    "from transformers import AutoTokenizer, AutoModelForCausalLM, TrainingArguments, Trainer, DataCollatorForLanguageModeling\n",
    "from datasets import load_dataset\n",
    "from peft import LoraConfig, get_peft_model, TaskType, PeftModel\n",
    "from safetensors.torch import load_file\n",
    "import os"
   ]
  },
  {
   "cell_type": "code",
   "execution_count": 7,
   "id": "a3dcf3c5-3a3c-4296-a8e5-ea6f8640f5fc",
   "metadata": {},
   "outputs": [],
   "source": [
    "# --- 1. Configuration ---\n",
    "MODEL_NAME = \"gpt2-large\"\n",
    "DATASET_NAME = \"merve/poetry\"\n",
    "OUTPUT_DIR = \"./gpt2_large_renaissance_love_poems_lora\"\n",
    "LEARNING_RATE = 2e-4\n",
    "BATCH_SIZE = 4\n",
    "NUM_EPOCHS = 3\n",
    "LORA_R = 8  # LoRA attention dimension\n",
    "LORA_ALPHA = 16 # Alpha parameter for LoRA scaling\n",
    "LORA_DROPOUT = 0.05 # Dropout probability for LoRA layers"
   ]
  },
  {
   "cell_type": "code",
   "execution_count": 9,
   "id": "636cfb20-9416-4b76-b368-ea500d1f7ed4",
   "metadata": {},
   "outputs": [
    {
     "name": "stdout",
     "output_type": "stream",
     "text": [
      "Current working directory: C:\\Users\\tterr\\IE7374 Project\n",
      "Expected save path: C:\\Users\\tterr\\IE7374 Project\\gpt2_large_renaissance_love_poems_lora\n"
     ]
    }
   ],
   "source": [
    "import os\n",
    "print(f\"Current working directory: {os.getcwd()}\")\n",
    "print(f\"Expected save path: {os.path.abspath(OUTPUT_DIR)}\")"
   ]
  },
  {
   "cell_type": "code",
   "execution_count": 11,
   "id": "de832faa-d25e-4757-a320-efe6d8f64904",
   "metadata": {},
   "outputs": [
    {
     "name": "stdout",
     "output_type": "stream",
     "text": [
      "Loading dataset: merve/poetry\n"
     ]
    },
    {
     "name": "stderr",
     "output_type": "stream",
     "text": [
      "Repo card metadata block was not found. Setting CardData to empty.\n"
     ]
    },
    {
     "name": "stdout",
     "output_type": "stream",
     "text": [
      "Original dataset size: 573\n",
      "Filtered dataset size (Renaissance Love Poems): 243\n"
     ]
    }
   ],
   "source": [
    "# --- 2. Load and Filter Dataset ---\n",
    "print(f\"Loading dataset: {DATASET_NAME}\")\n",
    "dataset = load_dataset(DATASET_NAME)\n",
    "\n",
    "def filter_renaissance_love(example):\n",
    "    return example['age'] == 'Renaissance' and example['type'] == 'Love'\n",
    "\n",
    "filtered_dataset = dataset['train'].filter(filter_renaissance_love)\n",
    "print(f\"Original dataset size: {len(dataset['train'])}\")\n",
    "print(f\"Filtered dataset size (Renaissance Love Poems): {len(filtered_dataset)}\")"
   ]
  },
  {
   "cell_type": "code",
   "execution_count": 13,
   "id": "8a617495-c31d-4380-a1bf-8e7a3925ecbb",
   "metadata": {},
   "outputs": [
    {
     "name": "stdout",
     "output_type": "stream",
     "text": [
      "Loading tokenizer: gpt2-large\n"
     ]
    }
   ],
   "source": [
    "# --- 3. Data Preparation (Tokenization) ---\n",
    "print(f\"Loading tokenizer: {MODEL_NAME}\")\n",
    "tokenizer = AutoTokenizer.from_pretrained(MODEL_NAME)\n",
    "if tokenizer.pad_token is None:\n",
    "    tokenizer.pad_token = tokenizer.eos_token \n",
    "\n",
    "# --- tokenize_function ---\n",
    "def tokenize_function(examples):\n",
    "    return tokenizer(examples['content'], truncation=True, max_length=512)\n",
    "\n",
    "tokenized_dataset = filtered_dataset.map(\n",
    "    tokenize_function,\n",
    "    batched=True,\n",
    "    remove_columns=['author', 'content', 'poem name', 'age', 'type'] \n",
    ")\n",
    "\n",
    "# Create data collator for language modeling (will handle padding and masking)\n",
    "data_collator = DataCollatorForLanguageModeling(tokenizer=tokenizer, mlm=False)"
   ]
  },
  {
   "cell_type": "code",
   "execution_count": 15,
   "id": "d670c4bc-b31d-4e6b-9db3-4a999c3fcf94",
   "metadata": {},
   "outputs": [
    {
     "name": "stdout",
     "output_type": "stream",
     "text": [
      "Loading model: gpt2-large\n",
      "trainable params: 1,474,560 || all params: 775,504,640 || trainable%: 0.19014199579772986\n"
     ]
    },
    {
     "name": "stderr",
     "output_type": "stream",
     "text": [
      "C:\\Users\\tterr\\anaconda3\\Lib\\site-packages\\peft\\tuners\\lora\\model.py:347: UserWarning: fan_in_fan_out is set to False but the target module is `Conv1D`. Setting fan_in_fan_out to True.\n",
      "  warnings.warn(\n"
     ]
    }
   ],
   "source": [
    "# --- 4. Load Model and Configure LoRA ---\n",
    "print(f\"Loading model: {MODEL_NAME}\")\n",
    "model = AutoModelForCausalLM.from_pretrained(MODEL_NAME)\n",
    "\n",
    "# Configure LoRA\n",
    "lora_config = LoraConfig(\n",
    "    r=LORA_R,\n",
    "    lora_alpha=LORA_ALPHA,\n",
    "    lora_dropout=LORA_DROPOUT,\n",
    "    bias=\"none\",\n",
    "    task_type=TaskType.CAUSAL_LM,\n",
    ")\n",
    "\n",
    "# Apply LoRA to the model\n",
    "model = get_peft_model(model, lora_config)\n",
    "model.print_trainable_parameters()"
   ]
  },
  {
   "cell_type": "code",
   "execution_count": 17,
   "id": "60df8857-42a5-4278-b862-c630c914af02",
   "metadata": {},
   "outputs": [
    {
     "name": "stdout",
     "output_type": "stream",
     "text": [
      "Starting fine-tuning...\n"
     ]
    },
    {
     "name": "stderr",
     "output_type": "stream",
     "text": [
      "`loss_type=None` was set in the config but it is unrecognised.Using the default loss: `ForCausalLMLoss`.\n"
     ]
    },
    {
     "data": {
      "text/html": [
       "\n",
       "    <div>\n",
       "      \n",
       "      <progress value='183' max='183' style='width:300px; height:20px; vertical-align: middle;'></progress>\n",
       "      [183/183 18:19, Epoch 3/3]\n",
       "    </div>\n",
       "    <table border=\"1\" class=\"dataframe\">\n",
       "  <thead>\n",
       " <tr style=\"text-align: left;\">\n",
       "      <th>Step</th>\n",
       "      <th>Training Loss</th>\n",
       "    </tr>\n",
       "  </thead>\n",
       "  <tbody>\n",
       "    <tr>\n",
       "      <td>50</td>\n",
       "      <td>5.273400</td>\n",
       "    </tr>\n",
       "    <tr>\n",
       "      <td>100</td>\n",
       "      <td>4.188200</td>\n",
       "    </tr>\n",
       "    <tr>\n",
       "      <td>150</td>\n",
       "      <td>3.959000</td>\n",
       "    </tr>\n",
       "  </tbody>\n",
       "</table><p>"
      ],
      "text/plain": [
       "<IPython.core.display.HTML object>"
      ]
     },
     "metadata": {},
     "output_type": "display_data"
    },
    {
     "name": "stdout",
     "output_type": "stream",
     "text": [
      "Fine-tuning complete! Model and tokenizer saved to ./gpt2_large_renaissance_love_poems_lora\n"
     ]
    }
   ],
   "source": [
    "# --- 5. Fine-tuning ---\n",
    "print(\"Starting fine-tuning...\")\n",
    "\n",
    "training_args = TrainingArguments(\n",
    "    output_dir=OUTPUT_DIR,\n",
    "    overwrite_output_dir=True,\n",
    "    per_device_train_batch_size=BATCH_SIZE,\n",
    "    num_train_epochs=NUM_EPOCHS,\n",
    "    learning_rate=LEARNING_RATE,\n",
    "    logging_dir=f\"{OUTPUT_DIR}/logs\",\n",
    "    logging_steps=50,\n",
    "    save_steps=500,\n",
    "    save_total_limit=2,\n",
    "    prediction_loss_only=True,\n",
    "    fp16=torch.cuda.is_available(),\n",
    ")\n",
    "\n",
    "trainer = Trainer(\n",
    "    model=model,\n",
    "    args=training_args,\n",
    "    train_dataset=tokenized_dataset,\n",
    "    data_collator=data_collator,\n",
    ")\n",
    "\n",
    "trainer.train()\n",
    "\n",
    "# Save the LoRA adapters\n",
    "model.save_pretrained(OUTPUT_DIR)\n",
    "tokenizer.save_pretrained(OUTPUT_DIR)\n",
    "print(f\"Fine-tuning complete! Model and tokenizer saved to {OUTPUT_DIR}\")"
   ]
  },
  {
   "cell_type": "code",
   "execution_count": 19,
   "id": "660c34d2-3cf7-4554-a983-650c301f11f6",
   "metadata": {},
   "outputs": [
    {
     "name": "stdout",
     "output_type": "stream",
     "text": [
      "\n",
      "--- Generating Sample Text ---\n",
      "Prompt: In gardens fair where roses bloom, my heart doth yearn for thee,\n",
      "Generated Poem:\n",
      " In gardens fair where roses bloom, my heart doth yearn for thee,\n",
      "\n",
      "Thou art the sweetest flower in the garden,\n",
      "\n",
      "And I love thee with all my heart.\n",
      "\n",
      "I love thee, O sweetest flower,\n",
      "\n",
      "With all my heart.\"\n",
      "\n",
      "\"O sweetest flower,\" said the king, \"I know not what thou sayest,\n",
      "\n",
      "But I know that thou art the most beautiful flower\n",
      "\n",
      "In the garden, and that I love thee.\"\n",
      "\n",
      "So saying, he kissed the flower, and said:\n",
      "\n",
      "\"Sweetest flower, I love thee, and I will be thy husband.\"\n",
      "\n",
      "The flower answered: \"O king, I know not what to say\n"
     ]
    }
   ],
   "source": [
    "# --- 6. Text Generation (Evaluation) ---\n",
    "print(\"\\n--- Generating Sample Text ---\")\n",
    "\n",
    "# Load the fine-tuned model with LoRA adapters\n",
    "base_model = AutoModelForCausalLM.from_pretrained(MODEL_NAME)\n",
    "\n",
    "# Apply the LoRA config to the base model to create a PeftModel shell\n",
    "lora_model = get_peft_model(base_model, lora_config)\n",
    "\n",
    "# --- LOADING LINE ---\n",
    "adapter_path = os.path.join(OUTPUT_DIR, \"adapter_model.safetensors\") # Point to the .safetensors file\n",
    "\n",
    "if not os.path.exists(adapter_path):\n",
    "    print(f\"Error: LoRA adapter file not found at {adapter_path}.\")\n",
    "    print(\"Please ensure fine-tuning completed successfully and the file was saved.\")\n",
    "    exit()\n",
    "\n",
    "# Load the state dictionary from the .safetensors file\n",
    "lora_state_dict = load_file(adapter_path, device=\"cpu\")\n",
    "\n",
    "# Load the state dictionary into the PEFT model\n",
    "lora_model.load_state_dict(lora_state_dict, strict=False)\n",
    "\n",
    "# Make sure the model is in evaluation mode\n",
    "lora_model.eval()\n",
    "\n",
    "prompt = \"In gardens fair where roses bloom, my heart doth yearn for thee,\"\n",
    "\n",
    "# --- Encode with attention_mask ---\n",
    "inputs = tokenizer.encode_plus(\n",
    "    prompt,\n",
    "    return_tensors='pt',\n",
    "    padding='longest',\n",
    "    truncation=True,\n",
    "    max_length=tokenizer.model_max_length\n",
    ")\n",
    "input_ids = inputs['input_ids']\n",
    "attention_mask = inputs['attention_mask']\n",
    "\n",
    "#input_ids = tokenizer.encode(prompt, return_tensors='pt')\n",
    "\n",
    "# Move to GPU if available\n",
    "if torch.cuda.is_available():\n",
    "    lora_model.to('cuda')\n",
    "    input_ids = input_ids.to('cuda')\n",
    "    attention_mask = attention_mask.to('cuda') \n",
    "\n",
    "print(f\"Prompt: {prompt}\")\n",
    "\n",
    "# Generate text\n",
    "#output = lora_model.generate(\n",
    "#    input_ids=input_ids,\n",
    "#    attention_mask=attention_mask,\n",
    "#    max_length=150, # Keep or adjust as desired\n",
    "#    num_return_sequences=1,\n",
    "#    no_repeat_ngram_size=4, # Increase this to 4 or even 5\n",
    "#    repetition_penalty=1.2, # Add this parameter, typically values like 1.0 to 1.5\n",
    "#    top_k=50, # Keep or adjust\n",
    "#    top_p=0.95, # Keep or adjust\n",
    "#    temperature=0.7, # Keep or adjust\n",
    "#    do_sample=True,\n",
    "#    pad_token_id=tokenizer.eos_token_id\n",
    "#)\n",
    "\n",
    "output = lora_model.generate(\n",
    "    input_ids=input_ids,\n",
    "    attention_mask=attention_mask,\n",
    "    max_length=150,\n",
    "    num_return_sequences=1,\n",
    "    no_repeat_ngram_size=4, # Keep this to avoid repetition\n",
    "    repetition_penalty=1.2, # Keep this to avoid repetition\n",
    "    num_beams=5,          # Try 3, 4, or 5 beams - common values\n",
    "    do_sample=False,      # Turn off sampling for pure beam search first\n",
    "    pad_token_id=tokenizer.eos_token_id\n",
    ")\n",
    "\n",
    "generated_text = tokenizer.decode(output[0], skip_special_tokens=True)\n",
    "print(\"Generated Poem:\\n\", generated_text)"
   ]
  },
  {
   "cell_type": "code",
   "execution_count": null,
   "id": "79d23fa4-99c9-45ec-ac0a-cd112fdd687f",
   "metadata": {},
   "outputs": [],
   "source": []
  }
 ],
 "metadata": {
  "kernelspec": {
   "display_name": "Python 3 (ipykernel)",
   "language": "python",
   "name": "python3"
  },
  "language_info": {
   "codemirror_mode": {
    "name": "ipython",
    "version": 3
   },
   "file_extension": ".py",
   "mimetype": "text/x-python",
   "name": "python",
   "nbconvert_exporter": "python",
   "pygments_lexer": "ipython3",
   "version": "3.12.4"
  }
 },
 "nbformat": 4,
 "nbformat_minor": 5
}
