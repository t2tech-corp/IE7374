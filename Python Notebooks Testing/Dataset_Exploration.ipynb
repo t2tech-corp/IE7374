{
 "cells": [
  {
   "cell_type": "code",
   "execution_count": 1,
   "id": "f59565ad-cade-4d4b-8c89-d07e4175871f",
   "metadata": {},
   "outputs": [],
   "source": [
    "from datasets import load_dataset"
   ]
  },
  {
   "cell_type": "code",
   "execution_count": 2,
   "id": "7c62a53f-4614-407e-8639-8287006199da",
   "metadata": {},
   "outputs": [
    {
     "name": "stderr",
     "output_type": "stream",
     "text": [
      "Repo card metadata block was not found. Setting CardData to empty.\n"
     ]
    }
   ],
   "source": [
    "dataset = load_dataset(\"merve/poetry\")"
   ]
  },
  {
   "cell_type": "code",
   "execution_count": 3,
   "id": "6416db59-951a-41ed-9e3a-05c97beef645",
   "metadata": {},
   "outputs": [
    {
     "name": "stdout",
     "output_type": "stream",
     "text": [
      "Total number of poems in the dataset: 573\n",
      "\n",
      "Dataset features (columns):\n",
      "{'author': Value(dtype='string', id=None), 'content': Value(dtype='string', id=None), 'poem name': Value(dtype='string', id=None), 'age': Value(dtype='string', id=None), 'type': Value(dtype='string', id=None)}\n"
     ]
    }
   ],
   "source": [
    "train_dataset = dataset['train']\n",
    "\n",
    "print(f\"Total number of poems in the dataset: {len(train_dataset)}\")\n",
    "print(\"\\nDataset features (columns):\")\n",
    "print(train_dataset.features)"
   ]
  },
  {
   "cell_type": "code",
   "execution_count": 4,
   "id": "0bd4f957-8550-470b-a38f-44dc896bbb6b",
   "metadata": {},
   "outputs": [
    {
     "name": "stdout",
     "output_type": "stream",
     "text": [
      "Total unique authors in the dataset: 67\n",
      "\n"
     ]
    }
   ],
   "source": [
    "authors = set(train_dataset['author'])\n",
    "\n",
    "sorted_authors = sorted(list(authors))\n",
    "\n",
    "print(f\"Total unique authors in the dataset: {len(sorted_authors)}\\n\")"
   ]
  },
  {
   "cell_type": "code",
   "execution_count": 5,
   "id": "1d8add3a-050b-4404-9930-7b7977478567",
   "metadata": {},
   "outputs": [
    {
     "name": "stdout",
     "output_type": "stream",
     "text": [
      "List of authors:\n",
      "- ARCHIBALD MACLEISH\n",
      "- ASIL BUNTING\n",
      "- CARL SANDBURG\n",
      "- CHRISTOPHER MARLOWE\n",
      "- CONRAD AIKEN\n",
      "- D. H. LAWRENCE\n",
      "- DUCHESS OF NEWCASTLE MARGARET CAVENDISH\n",
      "- E. E. CUMMINGS\n",
      "- EDGAR LEE MASTERS\n",
      "- EDITH SITWELL\n",
      "- EDMUND SPENSER\n",
      "- ELINOR WYLIE\n",
      "- EN JONSON\n",
      "- EZRA POUND\n",
      "- FORD MADOX FORD\n",
      "- GEORGE CHAPMAN\n",
      "- GEORGE GASCOIGNE\n",
      "- GEORGE SANTAYANA\n",
      "- GERTRUDE STEIN\n",
      "- GIOVANNI BATTISTA GUARINI\n",
      "- GUILLAUME APOLLINAIRE\n",
      "- HART CRANE\n",
      "- HENRY HOWARD, EARL OF SURREY\n",
      "- HENRY VIII, KING OF ENGLAND\n",
      "- HUGH MACDIARMID\n",
      "- ISABELLA WHITNEY\n",
      "- IVOR GURNEY\n",
      "- JAMES JOYCE\n",
      "- JOHN DONNE\n",
      "- JOHN FLETCHER\n",
      "- JOHN SKELTON\n",
      "- KATHERINE MANSFIELD\n",
      "- KENNETH FEARING\n",
      "- KENNETH SLESSOR\n",
      "- LADY MARY WROTH\n",
      "- LOUIS UNTERMEYER\n",
      "- LOUISE BOGAN\n",
      "- MALCOLM COWLEY\n",
      "- MARIANNE MOORE\n",
      "- MARJORIE PICKTHALL\n",
      "- MICHAEL ANANIA\n",
      "- MINA LOY\n",
      "- ORLANDO GIBBONS\n",
      "- PAUL LAURENCE DUNBAR\n",
      "- QUEEN ELIZABETH I\n",
      "- RICHARD ALDINGTON\n",
      "- RICHARD BARNFIELD\n",
      "- ROBERT SOUTHWELL, SJ\n",
      "- SAMUEL DANIEL\n",
      "- SAMUEL GREENBERG\n",
      "- SARA TEASDALE\n",
      "- SECOND BARON VAUX OF HARROWDEN THOMAS, LORD VAUX\n",
      "- SIR EDWARD DYER\n",
      "- SIR PHILIP SIDNEY\n",
      "- SIR THOMAS WYATT\n",
      "- SIR WALTER RALEGH\n",
      "- STEPHEN SPENDER\n",
      "- T. S. ELIOT\n",
      "- THOMAS BASTARD\n",
      "- THOMAS CAMPION\n",
      "- THOMAS HEYWOOD\n",
      "- THOMAS LODGE\n",
      "- THOMAS NASHE\n",
      "- WALLACE STEVENS\n",
      "- WILLIAM BUTLER YEATS\n",
      "- WILLIAM BYRD\n",
      "- WILLIAM SHAKESPEARE\n"
     ]
    }
   ],
   "source": [
    "# Print the list of unique authors\n",
    "print(\"List of authors:\")\n",
    "for author in sorted_authors:\n",
    "    print(f\"- {author}\")"
   ]
  },
  {
   "cell_type": "code",
   "execution_count": 6,
   "id": "0aa6c6f0-554e-469a-badb-9c6a763bb62a",
   "metadata": {},
   "outputs": [
    {
     "name": "stdout",
     "output_type": "stream",
     "text": [
      "\n",
      "--- Sample Poem 1 ---\n",
      "Poem Name: The Phoenix and the Turtle\n",
      "Author: WILLIAM SHAKESPEARE\n",
      "Age (Era): Renaissance\n",
      "Type (Genre/Theme): Mythology & Folklore\n",
      "\n",
      "Content:\n",
      "Let the bird of loudest lay\n",
      "On the sole Arabian tree\n",
      "Herald sad and trumpet be,\n",
      "To whose sound chaste wings obey.\n",
      "\n",
      "But thou shrieking harbinger,\n",
      "Foul precurrer of the fiend,\n",
      "Augur of the fever's end,\n",
      "To this troop come thou not near.\n",
      "\n",
      "From this session interdict\n",
      "Every fowl of tyrant wing,\n",
      "Save the eagle, feather'd king;\n",
      "Keep the obsequy so strict.\n",
      "\n",
      "Let the priest in surplice white,\n",
      "That defunctive music can,\n",
      "Be the death-divining swan,\n",
      "Lest the requiem lack his right.\n",
      "\n",
      "And thou treble-dated crow,\n",
      "That thy sable gender mak'st\n",
      "With the breath thou giv'st and tak'st,\n",
      "'Mongst our mourners shalt thou go.\n",
      "\n",
      "Here the anthem doth commence:\n",
      "Love and constancy is dead;\n",
      "Phoenix and the Turtle fled\n",
      "In a mutual flame from hence.\n",
      "\n",
      "So they lov'd, as love in twain\n",
      "Had the essence but in one;\n",
      "Two distincts, division none:\n",
      "Number there in love was slain.\n",
      "\n",
      "Hearts remote, yet not asunder;\n",
      "Distance and no space was seen\n",
      "'Twixt this Turtle and his queen:\n",
      "But in them it were a wonder.\n",
      "\n",
      "So between them love did shine\n",
      "That the Turtle saw his right\n",
      "Flaming in the Phoenix' sight:\n",
      "Either was the other's mine.\n",
      "\n",
      "Property was thus appalled\n",
      "That the self was not the same;\n",
      "Single nature's double name\n",
      "Neither two nor one was called.\n",
      "\n",
      "Reason, in itself confounded,\n",
      "Saw division grow together,\n",
      "To themselves yet either neither,\n",
      "Simple were so well compounded;\n",
      "\n",
      "That it cried, \"How true a twain\n",
      "Seemeth this concordant one!\n",
      "Love has reason, reason none,\n",
      "If what parts can so remain.\"\n",
      "\n",
      "Whereupon it made this threne\n",
      "To the Phoenix and the Dove,\n",
      "Co-supremes and stars of love,\n",
      "As chorus to their tragic scene:\n",
      "\n",
      "                 threnos\n",
      "\n",
      "Beauty, truth, and rarity,\n",
      "Grace in all simplicity,\n",
      "Here enclos'd, in cinders lie.\n",
      "\n",
      "Death is now the Phoenix' nest,\n",
      "And the Turtle's loyal breast\n",
      "To eternity doth rest,\n",
      "\n",
      "Leaving no posterity:\n",
      "'Twas not their infirmity,\n",
      "It was married chastity.\n",
      "\n",
      "Truth may seem but cannot be;\n",
      "Beauty brag but 'tis not she;\n",
      "Truth and beauty buried be.\n",
      "\n",
      "To this urn let those repair\n",
      "That are either true or fair;\n",
      "For these dead birds sigh a prayer.\n"
     ]
    }
   ],
   "source": [
    "# Get a sample poem (e.g., the first one)\n",
    "sample_poem = train_dataset[0]\n",
    "\n",
    "print(\"\\n--- Sample Poem 1 ---\")\n",
    "print(f\"Poem Name: {sample_poem['poem name']}\")\n",
    "print(f\"Author: {sample_poem['author']}\")\n",
    "print(f\"Age (Era): {sample_poem['age']}\")\n",
    "print(f\"Type (Genre/Theme): {sample_poem['type']}\")\n",
    "print(\"\\nContent:\")\n",
    "print(sample_poem['content'])"
   ]
  },
  {
   "cell_type": "code",
   "execution_count": 7,
   "id": "7be6f048-a8b9-4c78-bfc4-642b4bb6c90e",
   "metadata": {},
   "outputs": [
    {
     "name": "stdout",
     "output_type": "stream",
     "text": [
      "\n",
      "--- Sample Poem 2 ---\n",
      "Poem Name: Amoretti LV: So oft as I her beauty do behold\n",
      "Author: EDMUND SPENSER\n",
      "Age (Era): Renaissance\n",
      "Type (Genre/Theme): Love\n",
      "\n",
      "Content:\n",
      "So oft as I her beauty do behold,\n",
      "And therewith do her cruelty compare,\n",
      "I marvel of what substance was the mould\n",
      "The which her made at once so cruel-fair.\n",
      "Not earth; for her high thoughts more heavenly are:\n",
      "Not water; for her love doth burn like fire:\n",
      "Not air; for she is not so light or rare:\n",
      "Not fire; for she doth freeze with faint desire.\n",
      "\n",
      "Then needs another element inquire\n",
      "Whereof she might be made; that is, the sky.\n",
      "For to the heaven her haughty looks aspire,\n",
      "And eke her love is pure immortal high.\n",
      "Then since to heaven ye likened are the best,\n",
      "Be like in mercy as in all the rest.\n"
     ]
    }
   ],
   "source": [
    "# Get another sample to show diversity\n",
    "sample_poem_2 = train_dataset[100] # Adjust index as needed\n",
    "\n",
    "print(\"\\n--- Sample Poem 2 ---\")\n",
    "print(f\"Poem Name: {sample_poem_2['poem name']}\")\n",
    "print(f\"Author: {sample_poem_2['author']}\")\n",
    "print(f\"Age (Era): {sample_poem_2['age']}\")\n",
    "print(f\"Type (Genre/Theme): {sample_poem_2['type']}\")\n",
    "print(\"\\nContent:\")\n",
    "print(sample_poem_2['content'])"
   ]
  },
  {
   "cell_type": "code",
   "execution_count": 8,
   "id": "91f659a6-aadf-4124-955a-94f3454d4a4a",
   "metadata": {},
   "outputs": [
    {
     "name": "stdout",
     "output_type": "stream",
     "text": [
      "\n",
      "Number of 'Love' poems: 326\n",
      "\n",
      "--- Sample 'Love' Poem ---\n",
      "Poem Name: Sonnet 34: Why didst thou promise such a beauteous day\n",
      "Author: WILLIAM SHAKESPEARE\n",
      "Type: Love\n",
      "Content:\n",
      "Why didst thou promise such a beauteous day,\n",
      "And make me travel forth without my cloak,\n",
      "To let base clouds oertake me in my way,\n",
      "Hiding thy bravery in their rotten smoke?\n",
      "Tis not enough that through the cloud thou break,\n",
      "To dry the rain on my storm-beaten face,\n",
      "For no man well of such a salve can speak\n",
      "That heals the wound and cures not the disgrace:\n",
      "Nor can thy shame give physic to my grief;\n",
      "Though thou repent, yet I have still the loss:\n",
      "The offenders sorrow lends but weak relief\n",
      "To him that bears the strong offences cross.\n",
      "   Ah! but those tears are pearl which thy love sheds,\n",
      "   And they are rich and ransom all ill deeds.\n",
      " \n",
      " \n",
      " \n"
     ]
    }
   ],
   "source": [
    "# Example of filtering for a specific type/genre\n",
    "love_poems = train_dataset.filter(lambda example: 'Love' in example['type'])\n",
    "print(f\"\\nNumber of 'Love' poems: {len(love_poems)}\")\n",
    "if len(love_poems) > 0:\n",
    "    print(\"\\n--- Sample 'Love' Poem ---\")\n",
    "    print(f\"Poem Name: {love_poems[0]['poem name']}\")\n",
    "    print(f\"Author: {love_poems[0]['author']}\")\n",
    "    print(f\"Type: {love_poems[0]['type']}\")\n",
    "    print(f\"Content:\\n{love_poems[0]['content']}\")"
   ]
  },
  {
   "cell_type": "code",
   "execution_count": 9,
   "id": "8cc4fcfb-3fd5-4324-a5c9-bf513ad05f99",
   "metadata": {},
   "outputs": [
    {
     "name": "stdout",
     "output_type": "stream",
     "text": [
      "\n",
      "Number of 'Renaissance' poems: 315\n",
      "\n",
      "--- Sample 'Renaissance' Poem ---\n",
      "Poem Name: The Phoenix and the Turtle\n",
      "Author: WILLIAM SHAKESPEARE\n",
      "Type: Mythology & Folklore\n",
      "Content:\n",
      "Let the bird of loudest lay\n",
      "On the sole Arabian tree\n",
      "Herald sad and trumpet be,\n",
      "To whose sound chaste wings obey.\n",
      "\n",
      "But thou shrieking harbinger,\n",
      "Foul precurrer of the fiend,\n",
      "Augur of the fever's end,\n",
      "To this troop come thou not near.\n",
      "\n",
      "From this session interdict\n",
      "Every fowl of tyrant wing,\n",
      "Save the eagle, feather'd king;\n",
      "Keep the obsequy so strict.\n",
      "\n",
      "Let the priest in surplice white,\n",
      "That defunctive music can,\n",
      "Be the death-divining swan,\n",
      "Lest the requiem lack his right.\n",
      "\n",
      "And thou treble-dated crow,\n",
      "That thy sable gender mak'st\n",
      "With the breath thou giv'st and tak'st,\n",
      "'Mongst our mourners shalt thou go.\n",
      "\n",
      "Here the anthem doth commence:\n",
      "Love and constancy is dead;\n",
      "Phoenix and the Turtle fled\n",
      "In a mutual flame from hence.\n",
      "\n",
      "So they lov'd, as love in twain\n",
      "Had the essence but in one;\n",
      "Two distincts, division none:\n",
      "Number there in love was slain.\n",
      "\n",
      "Hearts remote, yet not asunder;\n",
      "Distance and no space was seen\n",
      "'Twixt this Turtle and his queen:\n",
      "But in them it were a wonder.\n",
      "\n",
      "So between them love did shine\n",
      "That the Turtle saw his right\n",
      "Flaming in the Phoenix' sight:\n",
      "Either was the other's mine.\n",
      "\n",
      "Property was thus appalled\n",
      "That the self was not the same;\n",
      "Single nature's double name\n",
      "Neither two nor one was called.\n",
      "\n",
      "Reason, in itself confounded,\n",
      "Saw division grow together,\n",
      "To themselves yet either neither,\n",
      "Simple were so well compounded;\n",
      "\n",
      "That it cried, \"How true a twain\n",
      "Seemeth this concordant one!\n",
      "Love has reason, reason none,\n",
      "If what parts can so remain.\"\n",
      "\n",
      "Whereupon it made this threne\n",
      "To the Phoenix and the Dove,\n",
      "Co-supremes and stars of love,\n",
      "As chorus to their tragic scene:\n",
      "\n",
      "                 threnos\n",
      "\n",
      "Beauty, truth, and rarity,\n",
      "Grace in all simplicity,\n",
      "Here enclos'd, in cinders lie.\n",
      "\n",
      "Death is now the Phoenix' nest,\n",
      "And the Turtle's loyal breast\n",
      "To eternity doth rest,\n",
      "\n",
      "Leaving no posterity:\n",
      "'Twas not their infirmity,\n",
      "It was married chastity.\n",
      "\n",
      "Truth may seem but cannot be;\n",
      "Beauty brag but 'tis not she;\n",
      "Truth and beauty buried be.\n",
      "\n",
      "To this urn let those repair\n",
      "That are either true or fair;\n",
      "For these dead birds sigh a prayer.\n"
     ]
    }
   ],
   "source": [
    "# Example of filtering for a specific age\n",
    "renaissance_poems = train_dataset.filter(lambda example: 'Renaissance' in example['age'])\n",
    "print(f\"\\nNumber of 'Renaissance' poems: {len(renaissance_poems)}\")\n",
    "if len(renaissance_poems) > 0:\n",
    "    print(\"\\n--- Sample 'Renaissance' Poem ---\")\n",
    "    print(f\"Poem Name: {renaissance_poems[0]['poem name']}\")\n",
    "    print(f\"Author: {renaissance_poems[0]['author']}\")\n",
    "    print(f\"Type: {renaissance_poems[0]['type']}\")\n",
    "    print(f\"Content:\\n{renaissance_poems[0]['content']}\")"
   ]
  },
  {
   "cell_type": "code",
   "execution_count": 10,
   "id": "9519734f-3848-4eb5-a470-f05bd0e3d466",
   "metadata": {},
   "outputs": [],
   "source": [
    "import pandas as pd\n",
    "from collections import Counter\n",
    "\n",
    "train_df = pd.DataFrame(train_dataset)"
   ]
  },
  {
   "cell_type": "code",
   "execution_count": 11,
   "id": "8112ef98-99d2-4590-9751-426833df114f",
   "metadata": {},
   "outputs": [
    {
     "name": "stdout",
     "output_type": "stream",
     "text": [
      "Preview detailed breakdown:\n",
      "       age  type                author  num_poems\n",
      "23  Modern  Love  WILLIAM BUTLER YEATS         13\n",
      "19  Modern  Love         SARA TEASDALE         10\n",
      "2   Modern  Love        D. H. LAWRENCE          7\n",
      "14  Modern  Love          LOUISE BOGAN          7\n",
      "6   Modern  Love            EZRA POUND          6\n",
      "17  Modern  Love  PAUL LAURENCE DUNBAR          6\n",
      "4   Modern  Love     EDGAR LEE MASTERS          4\n",
      "1   Modern  Love         CARL SANDBURG          3\n",
      "3   Modern  Love        E. E. CUMMINGS          3\n",
      "5   Modern  Love          ELINOR WYLIE          2\n",
      "7   Modern  Love        GERTRUDE STEIN          2\n",
      "8   Modern  Love            HART CRANE          2\n",
      "10  Modern  Love           JAMES JOYCE          2\n",
      "11  Modern  Love       KENNETH FEARING          2\n",
      "13  Modern  Love      LOUIS UNTERMEYER          2\n",
      "15  Modern  Love    MARJORIE PICKTHALL          2\n",
      "21  Modern  Love           T. S. ELIOT          2\n",
      "22  Modern  Love       WALLACE STEVENS          2\n",
      "0   Modern  Love          ASIL BUNTING          1\n",
      "9   Modern  Love           IVOR GURNEY          1\n"
     ]
    }
   ],
   "source": [
    "# Build breakdown age x type x author\n",
    "breakdown_ds = (train_df.groupby(['age','type','author']).size()\n",
    "               .reset_index(name='num_poems')\n",
    "               .sort_values(['age','type','num_poems'], ascending=[True,True,False]))\n",
    "\n",
    "print('Preview detailed breakdown:')\n",
    "print(breakdown_ds.head(20))"
   ]
  },
  {
   "cell_type": "code",
   "execution_count": 12,
   "id": "62eae0c6-1efb-4b75-8573-3d0b9936f838",
   "metadata": {},
   "outputs": [
    {
     "name": "stdout",
     "output_type": "stream",
     "text": [
      "Age × Type totals:\n",
      "           age                  type  total_works\n",
      "2       Modern                Nature          135\n",
      "0       Modern                  Love           83\n",
      "1       Modern  Mythology & Folklore           40\n",
      "3  Renaissance                  Love          243\n",
      "5  Renaissance                Nature           53\n",
      "4  Renaissance  Mythology & Folklore           19\n"
     ]
    }
   ],
   "source": [
    "# age x type totals\n",
    "totals_age_type_ds = (train_df.groupby(['age','type']).size()\n",
    "                     .reset_index(name='total_works')\n",
    "                     .sort_values(['age','total_works'], ascending=[True,False]))\n",
    "\n",
    "print('Age × Type totals:')\n",
    "print(totals_age_type_ds)"
   ]
  },
  {
   "cell_type": "code",
   "execution_count": 13,
   "id": "873f9cd2-9839-49b0-84c3-09ed2a454906",
   "metadata": {},
   "outputs": [
    {
     "name": "stdout",
     "output_type": "stream",
     "text": [
      "Age totals:\n",
      "           age  total_works\n",
      "0  Renaissance          315\n",
      "1       Modern          258\n"
     ]
    }
   ],
   "source": [
    "# age totals\n",
    "totals_age_ds = train_df['age'].value_counts().reset_index()\n",
    "totals_age_ds.columns=['age','total_works']\n",
    "print('Age totals:')\n",
    "print(totals_age_ds)"
   ]
  },
  {
   "cell_type": "code",
   "execution_count": 14,
   "id": "d6aa16e2-fa71-45ff-be52-1921333b9c27",
   "metadata": {},
   "outputs": [
    {
     "name": "stdout",
     "output_type": "stream",
     "text": [
      "Top 30 authors Renaissance Love:\n",
      "                                              author  num_poems\n",
      "0                                WILLIAM SHAKESPEARE         52\n",
      "1                                  SIR PHILIP SIDNEY         40\n",
      "2                                         JOHN DONNE         29\n",
      "3                                     EDMUND SPENSER         24\n",
      "4                                   SIR THOMAS WYATT         19\n",
      "5                                     THOMAS CAMPION         15\n",
      "6                                          EN JONSON         12\n",
      "7                                      SAMUEL DANIEL          7\n",
      "8                                    LADY MARY WROTH          7\n",
      "9                                  SIR WALTER RALEGH          6\n",
      "10                               CHRISTOPHER MARLOWE          4\n",
      "11                                      JOHN SKELTON          3\n",
      "12                       HENRY VIII, KING OF ENGLAND          3\n",
      "13                      HENRY HOWARD, EARL OF SURREY          3\n",
      "14                                  GEORGE GASCOIGNE          3\n",
      "15                                 QUEEN ELIZABETH I          2\n",
      "16                                    GEORGE CHAPMAN          2\n",
      "17                                 RICHARD BARNFIELD          2\n",
      "18                                  ISABELLA WHITNEY          1\n",
      "19  SECOND BARON VAUX OF HARROWDEN THOMAS, LORD VAUX          1\n",
      "20                                      THOMAS NASHE          1\n",
      "21                                    THOMAS HEYWOOD          1\n",
      "22                                    THOMAS BASTARD          1\n",
      "23                         GIOVANNI BATTISTA GUARINI          1\n",
      "24                                   SIR EDWARD DYER          1\n",
      "25           DUCHESS OF NEWCASTLE MARGARET CAVENDISH          1\n",
      "26                                      THOMAS LODGE          1\n",
      "27                                     JOHN FLETCHER          1\n"
     ]
    }
   ],
   "source": [
    "filtered = train_df[(train_df['age']=='Renaissance') & (train_df['type']=='Love')]\n",
    "counts_ren_love = filtered['author'].value_counts().reset_index()\n",
    "counts_ren_love.columns=['author','num_poems']\n",
    "print('Top 30 authors Renaissance Love:')\n",
    "print(counts_ren_love.head(30))"
   ]
  },
  {
   "cell_type": "code",
   "execution_count": null,
   "id": "947bab94-1547-4505-b63b-66f0517b5b38",
   "metadata": {},
   "outputs": [],
   "source": []
  }
 ],
 "metadata": {
  "kernelspec": {
   "display_name": "Python 3 (ipykernel)",
   "language": "python",
   "name": "python3"
  },
  "language_info": {
   "codemirror_mode": {
    "name": "ipython",
    "version": 3
   },
   "file_extension": ".py",
   "mimetype": "text/x-python",
   "name": "python",
   "nbconvert_exporter": "python",
   "pygments_lexer": "ipython3",
   "version": "3.12.4"
  }
 },
 "nbformat": 4,
 "nbformat_minor": 5
}
