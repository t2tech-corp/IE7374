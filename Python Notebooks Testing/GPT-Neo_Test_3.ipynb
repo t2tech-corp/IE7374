{
 "cells": [
  {
   "cell_type": "markdown",
   "id": "d534d006-defc-4d78-801c-e6f834992b7e",
   "metadata": {},
   "source": [
    "### GPT-Neo 125M\n",
    "\n",
    "#### model_name: EleutherAI/gpt-neo-125M\n",
    "#### description: Open-source GPT alternative, trained on diverse text\n",
    "#### pros: More diverse training data, Open source, Good for creative tasks\n",
    "#### cons: Larger than DistilGPT-2, May need more compute"
   ]
  },
  {
   "cell_type": "code",
   "execution_count": 2,
   "id": "39baab9e-d6d8-4e1c-9104-d1a69f5d2644",
   "metadata": {},
   "outputs": [
    {
     "name": "stdout",
     "output_type": "stream",
     "text": [
      "WARNING:tensorflow:From C:\\Users\\tterr\\anaconda3\\Lib\\site-packages\\tf_keras\\src\\losses.py:2976: The name tf.losses.sparse_softmax_cross_entropy is deprecated. Please use tf.compat.v1.losses.sparse_softmax_cross_entropy instead.\n",
      "\n"
     ]
    }
   ],
   "source": [
    "import torch\n",
    "from transformers import AutoTokenizer, AutoModelForCausalLM, TrainingArguments, Trainer, DataCollatorForLanguageModeling\n",
    "from datasets import load_dataset, concatenate_datasets # Keep concatenate_datasets if you plan to re-add Gutenberg later\n",
    "from peft import LoraConfig, get_peft_model, TaskType, PeftModel\n",
    "from safetensors.torch import load_file # For loading adapter_model.safetensors\n",
    "import os"
   ]
  },
  {
   "cell_type": "code",
   "execution_count": 3,
   "id": "b18963d5-0d59-4831-897a-a3c8b7c73bc2",
   "metadata": {},
   "outputs": [],
   "source": [
    "# --- 1. Configuration ---\n",
    "# --- CHANGED MODEL_NAME TO GPT-NEO ---\n",
    "MODEL_NAME = \"EleutherAI/gpt-neo-1.3B\"\n",
    "DATASET_NAME = \"merve/poetry\"\n",
    "OUTPUT_DIR = \"./gpt_neo_renaissance_love_poems_lora\" # Changed output directory for GPT-Neo\n",
    "LEARNING_RATE = 2e-4\n",
    "BATCH_SIZE = 4 # Adjust based on your GPU VRAM\n",
    "NUM_EPOCHS = 3 # Can increase if desired, but watch for overfitting\n",
    "LORA_R = 8\n",
    "LORA_ALPHA = 16\n",
    "LORA_DROPOUT = 0.05"
   ]
  },
  {
   "cell_type": "code",
   "execution_count": 4,
   "id": "e56ec3d7-36f4-4f33-a316-87e11f6538f2",
   "metadata": {},
   "outputs": [
    {
     "name": "stdout",
     "output_type": "stream",
     "text": [
      "Loading dataset: merve/poetry\n"
     ]
    },
    {
     "name": "stderr",
     "output_type": "stream",
     "text": [
      "Repo card metadata block was not found. Setting CardData to empty.\n"
     ]
    },
    {
     "data": {
      "application/vnd.jupyter.widget-view+json": {
       "model_id": "ef1ccfb8dfb8438687903e87d354dc27",
       "version_major": 2,
       "version_minor": 0
      },
      "text/plain": [
       "Filter:   0%|          | 0/573 [00:00<?, ? examples/s]"
      ]
     },
     "metadata": {},
     "output_type": "display_data"
    },
    {
     "name": "stdout",
     "output_type": "stream",
     "text": [
      "Original dataset size: 573\n",
      "Filtered dataset size (Renaissance Love Poems): 315\n"
     ]
    }
   ],
   "source": [
    "# --- 2. Load and Filter Dataset ---\n",
    "print(f\"Loading dataset: {DATASET_NAME}\")\n",
    "dataset = load_dataset(DATASET_NAME)\n",
    "\n",
    "def filter_renaissance_love(example):\n",
    "    return example['age'] == 'Renaissance'\n",
    "\n",
    "filtered_dataset = dataset['train'].filter(filter_renaissance_love)\n",
    "print(f\"Original dataset size: {len(dataset['train'])}\")\n",
    "print(f\"Filtered dataset size (Renaissance Love Poems): {len(filtered_dataset)}\")"
   ]
  },
  {
   "cell_type": "code",
   "execution_count": 5,
   "id": "6bd64a00-70c0-45e2-87bf-e815d1d6981e",
   "metadata": {},
   "outputs": [
    {
     "name": "stdout",
     "output_type": "stream",
     "text": [
      "Loading tokenizer: EleutherAI/gpt-neo-1.3B\n"
     ]
    },
    {
     "data": {
      "application/vnd.jupyter.widget-view+json": {
       "model_id": "48e441ece74548a6bf913255ef484a3d",
       "version_major": 2,
       "version_minor": 0
      },
      "text/plain": [
       "Map:   0%|          | 0/315 [00:00<?, ? examples/s]"
      ]
     },
     "metadata": {},
     "output_type": "display_data"
    }
   ],
   "source": [
    "# --- 3. Data Preparation (Tokenization) ---\n",
    "print(f\"Loading tokenizer: {MODEL_NAME}\")\n",
    "tokenizer = AutoTokenizer.from_pretrained(MODEL_NAME)\n",
    "# GPT-Neo also typically benefits from setting a pad_token\n",
    "if tokenizer.pad_token is None:\n",
    "    tokenizer.pad_token = tokenizer.eos_token\n",
    "\n",
    "def tokenize_function(examples):\n",
    "    # Use 'content' as confirmed from dataset inspection\n",
    "    return tokenizer(examples['content'], truncation=True, max_length=512)\n",
    "\n",
    "tokenized_dataset = filtered_dataset.map(\n",
    "    tokenize_function,\n",
    "    batched=True,\n",
    "    # Corrected column names based on previous error\n",
    "    remove_columns=['author', 'content', 'poem name', 'age', 'type']\n",
    ")\n",
    "\n",
    "# Create data collator for language modeling\n",
    "data_collator = DataCollatorForLanguageModeling(tokenizer=tokenizer, mlm=False)"
   ]
  },
  {
   "cell_type": "code",
   "execution_count": 6,
   "id": "e748caa7-5075-402a-9636-92c54654db3a",
   "metadata": {},
   "outputs": [
    {
     "name": "stdout",
     "output_type": "stream",
     "text": [
      "Loading model: EleutherAI/gpt-neo-1.3B\n",
      "trainable params: 1,572,864 || all params: 1,317,148,672 || trainable%: 0.11941431012580485\n"
     ]
    }
   ],
   "source": [
    "# --- 4. Load Model and Configure LoRA ---\n",
    "print(f\"Loading model: {MODEL_NAME}\")\n",
    "model = AutoModelForCausalLM.from_pretrained(MODEL_NAME)\n",
    "\n",
    "# Configure LoRA\n",
    "lora_config = LoraConfig(\n",
    "    r=LORA_R,\n",
    "    lora_alpha=LORA_ALPHA,\n",
    "    lora_dropout=LORA_DROPOUT,\n",
    "    bias=\"none\",\n",
    "    task_type=TaskType.CAUSAL_LM,\n",
    ")\n",
    "\n",
    "# Apply LoRA to the model\n",
    "model = get_peft_model(model, lora_config)\n",
    "model.print_trainable_parameters()"
   ]
  },
  {
   "cell_type": "code",
   "execution_count": 7,
   "id": "e4daf17b-e887-4b56-8535-2bfe3dd9c0fc",
   "metadata": {},
   "outputs": [
    {
     "name": "stdout",
     "output_type": "stream",
     "text": [
      "Starting fine-tuning...\n"
     ]
    },
    {
     "data": {
      "text/html": [
       "\n",
       "    <div>\n",
       "      \n",
       "      <progress value='237' max='237' style='width:300px; height:20px; vertical-align: middle;'></progress>\n",
       "      [237/237 1:19:45, Epoch 3/3]\n",
       "    </div>\n",
       "    <table border=\"1\" class=\"dataframe\">\n",
       "  <thead>\n",
       " <tr style=\"text-align: left;\">\n",
       "      <th>Step</th>\n",
       "      <th>Training Loss</th>\n",
       "    </tr>\n",
       "  </thead>\n",
       "  <tbody>\n",
       "    <tr>\n",
       "      <td>50</td>\n",
       "      <td>3.158700</td>\n",
       "    </tr>\n",
       "    <tr>\n",
       "      <td>100</td>\n",
       "      <td>3.144600</td>\n",
       "    </tr>\n",
       "    <tr>\n",
       "      <td>150</td>\n",
       "      <td>3.118700</td>\n",
       "    </tr>\n",
       "    <tr>\n",
       "      <td>200</td>\n",
       "      <td>3.062200</td>\n",
       "    </tr>\n",
       "  </tbody>\n",
       "</table><p>"
      ],
      "text/plain": [
       "<IPython.core.display.HTML object>"
      ]
     },
     "metadata": {},
     "output_type": "display_data"
    },
    {
     "name": "stdout",
     "output_type": "stream",
     "text": [
      "Fine-tuning complete! Model and tokenizer saved to ./gpt_neo_renaissance_love_poems_lora\n"
     ]
    }
   ],
   "source": [
    "# --- 5. Fine-tuning ---\n",
    "print(\"Starting fine-tuning...\")\n",
    "\n",
    "# Ensure output directory exists for Trainer\n",
    "os.makedirs(OUTPUT_DIR, exist_ok=True)\n",
    "\n",
    "training_args = TrainingArguments(\n",
    "    output_dir=OUTPUT_DIR,\n",
    "    overwrite_output_dir=True, # Set to True to start fresh if directory exists\n",
    "    per_device_train_batch_size=BATCH_SIZE,\n",
    "    num_train_epochs=NUM_EPOCHS,\n",
    "    learning_rate=LEARNING_RATE,\n",
    "    logging_dir=f\"{OUTPUT_DIR}/logs\",\n",
    "    logging_steps=50,\n",
    "    save_steps=500, # Save checkpoint every 500 steps\n",
    "    save_total_limit=2, # Save only the last 2 checkpoints\n",
    "    prediction_loss_only=True,\n",
    "    fp16=torch.cuda.is_available(), # Enable mixed precision training if CUDA is available\n",
    ")\n",
    "\n",
    "trainer = Trainer(\n",
    "    model=model,\n",
    "    args=training_args,\n",
    "    train_dataset=tokenized_dataset,\n",
    "    data_collator=data_collator,\n",
    ")\n",
    "\n",
    "# Add a try-except block to ensure saving even if training is interrupted\n",
    "try:\n",
    "    trainer.train()\n",
    "    # Save the LoRA adapters after successful training\n",
    "    model.save_pretrained(OUTPUT_DIR)\n",
    "    tokenizer.save_pretrained(OUTPUT_DIR)\n",
    "    print(f\"Fine-tuning complete! Model and tokenizer saved to {OUTPUT_DIR}\")\n",
    "except Exception as e:\n",
    "    print(f\"An error occurred during training: {e}\")\n",
    "    print(\"Attempting to save current model state...\")\n",
    "    try:\n",
    "        model.save_pretrained(OUTPUT_DIR)\n",
    "        tokenizer.save_pretrained(OUTPUT_DIR)\n",
    "        print(f\"Partial model and tokenizer saved to {OUTPUT_DIR}\")\n",
    "    except Exception as save_e:\n",
    "        print(f\"Error saving partial model: {save_e}\")"
   ]
  },
  {
   "cell_type": "code",
   "execution_count": 25,
   "id": "017787e0-e8ae-48e3-a36b-278adbb6741e",
   "metadata": {},
   "outputs": [
    {
     "name": "stdout",
     "output_type": "stream",
     "text": [
      "\n",
      "--- Generating Sample Text ---\n",
      "Prompt: O fairest rose that bloomed in summer's garden,\n",
      "Generated Poem:\n",
      " O fairest rose that bloomed in summer's garden,\n",
      "     The fairest flower that ever grew,\n",
      "  And the fairest of them all, the fairest rose,\n",
      "  Was the fairest that ever bloomed\n",
      "\n",
      "--- Project Complete ---\n"
     ]
    }
   ],
   "source": [
    "# --- 6. Text Generation (Evaluation) ---\n",
    "print(\"\\n--- Generating Sample Text ---\")\n",
    "\n",
    "# Load the base model and then apply the saved LoRA adapters\n",
    "base_model = AutoModelForCausalLM.from_pretrained(MODEL_NAME)\n",
    "lora_model = get_peft_model(base_model, lora_config)\n",
    "\n",
    "# Load the state dictionary from the .safetensors file\n",
    "adapter_path = os.path.join(OUTPUT_DIR, \"adapter_model.safetensors\")\n",
    "\n",
    "if not os.path.exists(adapter_path):\n",
    "    print(f\"Error: LoRA adapter file not found at {adapter_path}.\")\n",
    "    print(\"Please ensure fine-tuning completed successfully and the file was saved.\")\n",
    "    # Exit or handle the error more gracefully if you are running this as a script\n",
    "    exit()\n",
    "\n",
    "lora_state_dict = load_file(adapter_path, device=\"cpu\")\n",
    "lora_model.load_state_dict(lora_state_dict, strict=False)\n",
    "\n",
    "# Make sure the model is in evaluation mode\n",
    "lora_model.eval()\n",
    "\n",
    "#prompt = \"O, my love, you are like\"\n",
    "prompt = \"O fairest rose that bloomed in summer's garden,\"\n",
    "\n",
    "\n",
    "# Encode with attention_mask\n",
    "inputs = tokenizer.encode_plus(\n",
    "    prompt,\n",
    "    return_tensors='pt',\n",
    "    padding='longest',\n",
    "    truncation=True,\n",
    "    max_length=tokenizer.model_max_length\n",
    ")\n",
    "input_ids = inputs['input_ids']\n",
    "attention_mask = inputs['attention_mask']\n",
    "\n",
    "# Move to GPU if available\n",
    "if torch.cuda.is_available():\n",
    "    lora_model.to('cuda')\n",
    "    input_ids = input_ids.to('cuda')\n",
    "    attention_mask = attention_mask.to('cuda')\n",
    "\n",
    "print(f\"Prompt: {prompt}\")\n",
    "\n",
    "# Generate text using beam search (optimized for coherence)\n",
    "output = lora_model.generate(\n",
    "    input_ids=input_ids,\n",
    "    attention_mask=attention_mask,\n",
    "    max_length=50,\n",
    "    num_return_sequences=1,\n",
    "    no_repeat_ngram_size=4,\n",
    "    repetition_penalty=1.2,\n",
    "    num_beams=5,          # Using beam search for higher quality\n",
    "    do_sample=False,      # Turn off sampling for pure beam search\n",
    "    pad_token_id=tokenizer.eos_token_id\n",
    ")\n",
    "\n",
    "generated_text = tokenizer.decode(output[0], skip_special_tokens=True)\n",
    "print(\"Generated Poem:\\n\", generated_text)\n",
    "\n",
    "print(\"\\n--- Project Complete ---\")"
   ]
  },
  {
   "cell_type": "code",
   "execution_count": null,
   "id": "6efb4895-96da-457b-b01f-efc191239edf",
   "metadata": {},
   "outputs": [],
   "source": []
  }
 ],
 "metadata": {
  "kernelspec": {
   "display_name": "Python 3 (ipykernel)",
   "language": "python",
   "name": "python3"
  },
  "language_info": {
   "codemirror_mode": {
    "name": "ipython",
    "version": 3
   },
   "file_extension": ".py",
   "mimetype": "text/x-python",
   "name": "python",
   "nbconvert_exporter": "python",
   "pygments_lexer": "ipython3",
   "version": "3.12.4"
  }
 },
 "nbformat": 4,
 "nbformat_minor": 5
}
