{
 "cells": [
  {
   "cell_type": "markdown",
   "id": "e3502351-ff2f-40f7-aac9-c86e5ee282dc",
   "metadata": {},
   "source": [
    "#### Model size: DistilGPT-2 has ~82M parameters (vs GPT-2's ~117M)\n",
    "#### Benefits: Faster inference, smaller memory footprint, easier to fine-tune"
   ]
  },
  {
   "cell_type": "code",
   "execution_count": 1,
   "id": "57a91f67-1363-40c0-8d6c-544ad6aea796",
   "metadata": {},
   "outputs": [],
   "source": [
    "# Load DistilGPT-2 model and tokenizer\n",
    "from transformers import GPT2LMHeadModel, GPT2Tokenizer, pipeline"
   ]
  },
  {
   "cell_type": "code",
   "execution_count": 3,
   "id": "9dfdf43c-0fa7-44cc-b48c-95ffabc790ed",
   "metadata": {},
   "outputs": [
    {
     "data": {
      "application/vnd.jupyter.widget-view+json": {
       "model_id": "f58dcdc203254d3c9cd6a2bf073d14ef",
       "version_major": 2,
       "version_minor": 0
      },
      "text/plain": [
       "tokenizer_config.json:   0%|          | 0.00/26.0 [00:00<?, ?B/s]"
      ]
     },
     "metadata": {},
     "output_type": "display_data"
    },
    {
     "name": "stderr",
     "output_type": "stream",
     "text": [
      "C:\\Users\\tterr\\anaconda3\\Lib\\site-packages\\huggingface_hub\\file_download.py:140: UserWarning: `huggingface_hub` cache-system uses symlinks by default to efficiently store duplicated files but your machine does not support them in C:\\Users\\tterr\\.cache\\huggingface\\hub\\models--distilgpt2. Caching files will still work but in a degraded version that might require more space on your disk. This warning can be disabled by setting the `HF_HUB_DISABLE_SYMLINKS_WARNING` environment variable. For more details, see https://huggingface.co/docs/huggingface_hub/how-to-cache#limitations.\n",
      "To support symlinks on Windows, you either need to activate Developer Mode or to run Python as an administrator. In order to activate developer mode, see this article: https://docs.microsoft.com/en-us/windows/apps/get-started/enable-your-device-for-development\n",
      "  warnings.warn(message)\n"
     ]
    },
    {
     "data": {
      "application/vnd.jupyter.widget-view+json": {
       "model_id": "59af9fc9afb2473bb6af44529310b38f",
       "version_major": 2,
       "version_minor": 0
      },
      "text/plain": [
       "vocab.json:   0%|          | 0.00/1.04M [00:00<?, ?B/s]"
      ]
     },
     "metadata": {},
     "output_type": "display_data"
    },
    {
     "data": {
      "application/vnd.jupyter.widget-view+json": {
       "model_id": "932d2a83bdce4fe2a1d089151f685420",
       "version_major": 2,
       "version_minor": 0
      },
      "text/plain": [
       "merges.txt:   0%|          | 0.00/456k [00:00<?, ?B/s]"
      ]
     },
     "metadata": {},
     "output_type": "display_data"
    },
    {
     "data": {
      "application/vnd.jupyter.widget-view+json": {
       "model_id": "24028b691b534fcf861937cb90b25a71",
       "version_major": 2,
       "version_minor": 0
      },
      "text/plain": [
       "tokenizer.json:   0%|          | 0.00/1.36M [00:00<?, ?B/s]"
      ]
     },
     "metadata": {},
     "output_type": "display_data"
    },
    {
     "data": {
      "application/vnd.jupyter.widget-view+json": {
       "model_id": "c2406b4d61c1443b9b90c6b742a4a33f",
       "version_major": 2,
       "version_minor": 0
      },
      "text/plain": [
       "config.json:   0%|          | 0.00/762 [00:00<?, ?B/s]"
      ]
     },
     "metadata": {},
     "output_type": "display_data"
    },
    {
     "data": {
      "application/vnd.jupyter.widget-view+json": {
       "model_id": "a8ba2867dfc94058b4316e7b6f978079",
       "version_major": 2,
       "version_minor": 0
      },
      "text/plain": [
       "model.safetensors:   0%|          | 0.00/353M [00:00<?, ?B/s]"
      ]
     },
     "metadata": {},
     "output_type": "display_data"
    },
    {
     "data": {
      "application/vnd.jupyter.widget-view+json": {
       "model_id": "ed82b5c83bf64f3e8599aa1165c41349",
       "version_major": 2,
       "version_minor": 0
      },
      "text/plain": [
       "generation_config.json:   0%|          | 0.00/124 [00:00<?, ?B/s]"
      ]
     },
     "metadata": {},
     "output_type": "display_data"
    }
   ],
   "source": [
    "# Load DistilGPT-2 (smaller, faster version of GPT-2)\n",
    "distil_model_name = \"distilgpt2\"\n",
    "distil_tokenizer = GPT2Tokenizer.from_pretrained(distil_model_name)\n",
    "distil_model = GPT2LMHeadModel.from_pretrained(distil_model_name)"
   ]
  },
  {
   "cell_type": "code",
   "execution_count": 5,
   "id": "8bad017e-4ed7-4586-99ca-a52e575fffeb",
   "metadata": {},
   "outputs": [
    {
     "name": "stderr",
     "output_type": "stream",
     "text": [
      "Device set to use cpu\n"
     ]
    }
   ],
   "source": [
    "# Create text generation pipeline for DistilGPT-2\n",
    "distil_text_generator = pipeline(\n",
    "    \"text-generation\",\n",
    "    model=distil_model,\n",
    "    tokenizer=distil_tokenizer,\n",
    "    device=-1  # Use CPU\n",
    ")"
   ]
  },
  {
   "cell_type": "code",
   "execution_count": 7,
   "id": "e258a097-f521-42a1-9009-3c1a251ae847",
   "metadata": {},
   "outputs": [],
   "source": [
    "# Create Renaissance poetry generation functions for DistilGPT-2\n",
    "def generate_distil_renaissance_poem(prompt, max_new_tokens=40, temperature=0.7):\n",
    "    \"\"\"\n",
    "    Generate Renaissance-style poetry using DistilGPT-2\n",
    "    \"\"\"\n",
    "    result = distil_text_generator(\n",
    "        prompt,\n",
    "        max_new_tokens=max_new_tokens,\n",
    "        temperature=temperature,\n",
    "        do_sample=True,\n",
    "        pad_token_id=distil_tokenizer.eos_token_id,\n",
    "        repetition_penalty=1.3,\n",
    "        top_p=0.8,\n",
    "        top_k=40,\n",
    "        no_repeat_ngram_size=2\n",
    "    )\n",
    "    return result[0]['generated_text']"
   ]
  },
  {
   "cell_type": "code",
   "execution_count": 9,
   "id": "3d6dcdd3-771e-4a7e-a508-0f05490d323f",
   "metadata": {},
   "outputs": [],
   "source": [
    "# Test the same Renaissance prompts with DistilGPT-2\n",
    "renaissance_prompts = [\n",
    "    \"Alas, my heart doth break for thee, sweet love,\",\n",
    "    \"O fairest rose that bloomed in summer's garden,\",\n",
    "    \"When first mine eyes beheld thy gentle face,\",\n",
    "    \"Thy beauty shines like stars in midnight sky,\",\n",
    "    \"Sweet maiden, thou hast stolen my poor heart,\"\n",
    "]"
   ]
  },
  {
   "cell_type": "code",
   "execution_count": 11,
   "id": "9f5b0240-22f5-4aa7-b71d-3e05ad34e420",
   "metadata": {},
   "outputs": [
    {
     "name": "stdout",
     "output_type": "stream",
     "text": [
      "Example 1:\n",
      "Prompt: Alas, my heart doth break for thee, sweet love,\n",
      "Generated: Alas, my heart doth break for thee, sweet love, and thy God.\n",
      "And I pray to you that we may all be saved from the destruction of our enemies in this world; so do not let your brothers fear their own fate or others' safety\n",
      "----------------------------------------\n",
      "Example 2:\n",
      "Prompt: O fairest rose that bloomed in summer's garden,\n",
      "Generated: O fairest rose that bloomed in summer's garden, and the leaves were green.\n",
      "\"I have a feeling I'm going to be more beautiful,\" he said as his eyes turned toward him again. \"And if you look at it like this one\n",
      "----------------------------------------\n",
      "Example 3:\n",
      "Prompt: When first mine eyes beheld thy gentle face,\n",
      "Generated: When first mine eyes beheld thy gentle face, and I am glad to have you there.\n",
      "I will tell thee how my heart has turned on me; the blood is boiling from all that it can do for them! And when they speak this\n",
      "----------------------------------------\n"
     ]
    }
   ],
   "source": [
    "for i, prompt in enumerate(renaissance_prompts[:3], 1):\n",
    "    print(\"Example \" + str(i) + \":\")\n",
    "    print(\"Prompt: \" + prompt)\n",
    "    poem = generate_distil_renaissance_poem(prompt)\n",
    "    print(\"Generated: \" + poem)\n",
    "    print(\"-\" * 40)"
   ]
  },
  {
   "cell_type": "code",
   "execution_count": null,
   "id": "8c55610b-e72c-4ebc-b971-6861cda8ec58",
   "metadata": {},
   "outputs": [],
   "source": []
  }
 ],
 "metadata": {
  "kernelspec": {
   "display_name": "Python 3 (ipykernel)",
   "language": "python",
   "name": "python3"
  },
  "language_info": {
   "codemirror_mode": {
    "name": "ipython",
    "version": 3
   },
   "file_extension": ".py",
   "mimetype": "text/x-python",
   "name": "python",
   "nbconvert_exporter": "python",
   "pygments_lexer": "ipython3",
   "version": "3.12.4"
  }
 },
 "nbformat": 4,
 "nbformat_minor": 5
}
