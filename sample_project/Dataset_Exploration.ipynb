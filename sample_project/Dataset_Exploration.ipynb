{
 "cells": [
  {
   "cell_type": "code",
   "execution_count": 1,
   "id": "f59565ad-cade-4d4b-8c89-d07e4175871f",
   "metadata": {},
   "outputs": [],
   "source": [
    "from datasets import load_dataset"
   ]
  },
  {
   "cell_type": "code",
   "execution_count": 3,
   "id": "7c62a53f-4614-407e-8639-8287006199da",
   "metadata": {},
   "outputs": [
    {
     "data": {
      "application/vnd.jupyter.widget-view+json": {
       "model_id": "652a5e81ab6c458eab4dca865a04f3ba",
       "version_major": 2,
       "version_minor": 0
      },
      "text/plain": [
       "README.md:   0%|          | 0.00/2.81k [00:00<?, ?B/s]"
      ]
     },
     "metadata": {},
     "output_type": "display_data"
    },
    {
     "name": "stderr",
     "output_type": "stream",
     "text": [
      "C:\\Users\\tterr\\anaconda3\\Lib\\site-packages\\huggingface_hub\\file_download.py:140: UserWarning: `huggingface_hub` cache-system uses symlinks by default to efficiently store duplicated files but your machine does not support them in C:\\Users\\tterr\\.cache\\huggingface\\hub\\datasets--merve--poetry. Caching files will still work but in a degraded version that might require more space on your disk. This warning can be disabled by setting the `HF_HUB_DISABLE_SYMLINKS_WARNING` environment variable. For more details, see https://huggingface.co/docs/huggingface_hub/how-to-cache#limitations.\n",
      "To support symlinks on Windows, you either need to activate Developer Mode or to run Python as an administrator. In order to activate developer mode, see this article: https://docs.microsoft.com/en-us/windows/apps/get-started/enable-your-device-for-development\n",
      "  warnings.warn(message)\n",
      "Repo card metadata block was not found. Setting CardData to empty.\n"
     ]
    },
    {
     "data": {
      "application/vnd.jupyter.widget-view+json": {
       "model_id": "c1ec3ea49c004cb084b99f2adf3a962e",
       "version_major": 2,
       "version_minor": 0
      },
      "text/plain": [
       "poetry.csv:   0%|          | 0.00/606k [00:00<?, ?B/s]"
      ]
     },
     "metadata": {},
     "output_type": "display_data"
    },
    {
     "data": {
      "application/vnd.jupyter.widget-view+json": {
       "model_id": "d4f6dd0099374c0b93b0062bd9e10abb",
       "version_major": 2,
       "version_minor": 0
      },
      "text/plain": [
       "Generating train split:   0%|          | 0/573 [00:00<?, ? examples/s]"
      ]
     },
     "metadata": {},
     "output_type": "display_data"
    }
   ],
   "source": [
    "dataset = load_dataset(\"merve/poetry\")"
   ]
  },
  {
   "cell_type": "code",
   "execution_count": 5,
   "id": "6416db59-951a-41ed-9e3a-05c97beef645",
   "metadata": {},
   "outputs": [
    {
     "name": "stdout",
     "output_type": "stream",
     "text": [
      "Total number of poems in the dataset: 573\n",
      "\n",
      "Dataset features (columns):\n",
      "{'author': Value(dtype='string', id=None), 'content': Value(dtype='string', id=None), 'poem name': Value(dtype='string', id=None), 'age': Value(dtype='string', id=None), 'type': Value(dtype='string', id=None)}\n"
     ]
    }
   ],
   "source": [
    "train_dataset = dataset['train']\n",
    "\n",
    "print(f\"Total number of poems in the dataset: {len(train_dataset)}\")\n",
    "print(\"\\nDataset features (columns):\")\n",
    "print(train_dataset.features)"
   ]
  },
  {
   "cell_type": "code",
   "execution_count": 19,
   "id": "0bd4f957-8550-470b-a38f-44dc896bbb6b",
   "metadata": {},
   "outputs": [
    {
     "name": "stdout",
     "output_type": "stream",
     "text": [
      "Total unique authors in the dataset: 67\n",
      "\n"
     ]
    }
   ],
   "source": [
    "authors = set(train_dataset['author'])\n",
    "\n",
    "sorted_authors = sorted(list(authors))\n",
    "\n",
    "print(f\"Total unique authors in the dataset: {len(sorted_authors)}\\n\")"
   ]
  },
  {
   "cell_type": "code",
   "execution_count": 21,
   "id": "1d8add3a-050b-4404-9930-7b7977478567",
   "metadata": {},
   "outputs": [
    {
     "name": "stdout",
     "output_type": "stream",
     "text": [
      "List of authors:\n",
      "- ARCHIBALD MACLEISH\n",
      "- ASIL BUNTING\n",
      "- CARL SANDBURG\n",
      "- CHRISTOPHER MARLOWE\n",
      "- CONRAD AIKEN\n",
      "- D. H. LAWRENCE\n",
      "- DUCHESS OF NEWCASTLE MARGARET CAVENDISH\n",
      "- E. E. CUMMINGS\n",
      "- EDGAR LEE MASTERS\n",
      "- EDITH SITWELL\n",
      "- EDMUND SPENSER\n",
      "- ELINOR WYLIE\n",
      "- EN JONSON\n",
      "- EZRA POUND\n",
      "- FORD MADOX FORD\n",
      "- GEORGE CHAPMAN\n",
      "- GEORGE GASCOIGNE\n",
      "- GEORGE SANTAYANA\n",
      "- GERTRUDE STEIN\n",
      "- GIOVANNI BATTISTA GUARINI\n",
      "- GUILLAUME APOLLINAIRE\n",
      "- HART CRANE\n",
      "- HENRY HOWARD, EARL OF SURREY\n",
      "- HENRY VIII, KING OF ENGLAND\n",
      "- HUGH MACDIARMID\n",
      "- ISABELLA WHITNEY\n",
      "- IVOR GURNEY\n",
      "- JAMES JOYCE\n",
      "- JOHN DONNE\n",
      "- JOHN FLETCHER\n",
      "- JOHN SKELTON\n",
      "- KATHERINE MANSFIELD\n",
      "- KENNETH FEARING\n",
      "- KENNETH SLESSOR\n",
      "- LADY MARY WROTH\n",
      "- LOUIS UNTERMEYER\n",
      "- LOUISE BOGAN\n",
      "- MALCOLM COWLEY\n",
      "- MARIANNE MOORE\n",
      "- MARJORIE PICKTHALL\n",
      "- MICHAEL ANANIA\n",
      "- MINA LOY\n",
      "- ORLANDO GIBBONS\n",
      "- PAUL LAURENCE DUNBAR\n",
      "- QUEEN ELIZABETH I\n",
      "- RICHARD ALDINGTON\n",
      "- RICHARD BARNFIELD\n",
      "- ROBERT SOUTHWELL, SJ\n",
      "- SAMUEL DANIEL\n",
      "- SAMUEL GREENBERG\n",
      "- SARA TEASDALE\n",
      "- SECOND BARON VAUX OF HARROWDEN THOMAS, LORD VAUX\n",
      "- SIR EDWARD DYER\n",
      "- SIR PHILIP SIDNEY\n",
      "- SIR THOMAS WYATT\n",
      "- SIR WALTER RALEGH\n",
      "- STEPHEN SPENDER\n",
      "- T. S. ELIOT\n",
      "- THOMAS BASTARD\n",
      "- THOMAS CAMPION\n",
      "- THOMAS HEYWOOD\n",
      "- THOMAS LODGE\n",
      "- THOMAS NASHE\n",
      "- WALLACE STEVENS\n",
      "- WILLIAM BUTLER YEATS\n",
      "- WILLIAM BYRD\n",
      "- WILLIAM SHAKESPEARE\n"
     ]
    }
   ],
   "source": [
    "# Print the list of unique authors\n",
    "print(\"List of authors:\")\n",
    "for author in sorted_authors:\n",
    "    print(f\"- {author}\")"
   ]
  },
  {
   "cell_type": "code",
   "execution_count": 7,
   "id": "0aa6c6f0-554e-469a-badb-9c6a763bb62a",
   "metadata": {},
   "outputs": [
    {
     "name": "stdout",
     "output_type": "stream",
     "text": [
      "\n",
      "--- Sample Poem 1 ---\n",
      "Poem Name: The Phoenix and the Turtle\n",
      "Author: WILLIAM SHAKESPEARE\n",
      "Age (Era): Renaissance\n",
      "Type (Genre/Theme): Mythology & Folklore\n",
      "\n",
      "Content:\n",
      "Let the bird of loudest lay\n",
      "On the sole Arabian tree\n",
      "Herald sad and trumpet be,\n",
      "To whose sound chaste wings obey.\n",
      "\n",
      "But thou shrieking harbinger,\n",
      "Foul precurrer of the fiend,\n",
      "Augur of the fever's end,\n",
      "To this troop come thou not near.\n",
      "\n",
      "From this session interdict\n",
      "Every fowl of tyrant wing,\n",
      "Save the eagle, feather'd king;\n",
      "Keep the obsequy so strict.\n",
      "\n",
      "Let the priest in surplice white,\n",
      "That defunctive music can,\n",
      "Be the death-divining swan,\n",
      "Lest the requiem lack his right.\n",
      "\n",
      "And thou treble-dated crow,\n",
      "That thy sable gender mak'st\n",
      "With the breath thou giv'st and tak'st,\n",
      "'Mongst our mourners shalt thou go.\n",
      "\n",
      "Here the anthem doth commence:\n",
      "Love and constancy is dead;\n",
      "Phoenix and the Turtle fled\n",
      "In a mutual flame from hence.\n",
      "\n",
      "So they lov'd, as love in twain\n",
      "Had the essence but in one;\n",
      "Two distincts, division none:\n",
      "Number there in love was slain.\n",
      "\n",
      "Hearts remote, yet not asunder;\n",
      "Distance and no space was seen\n",
      "'Twixt this Turtle and his queen:\n",
      "But in them it were a wonder.\n",
      "\n",
      "So between them love did shine\n",
      "That the Turtle saw his right\n",
      "Flaming in the Phoenix' sight:\n",
      "Either was the other's mine.\n",
      "\n",
      "Property was thus appalled\n",
      "That the self was not the same;\n",
      "Single nature's double name\n",
      "Neither two nor one was called.\n",
      "\n",
      "Reason, in itself confounded,\n",
      "Saw division grow together,\n",
      "To themselves yet either neither,\n",
      "Simple were so well compounded;\n",
      "\n",
      "That it cried, \"How true a twain\n",
      "Seemeth this concordant one!\n",
      "Love has reason, reason none,\n",
      "If what parts can so remain.\"\n",
      "\n",
      "Whereupon it made this threne\n",
      "To the Phoenix and the Dove,\n",
      "Co-supremes and stars of love,\n",
      "As chorus to their tragic scene:\n",
      "\n",
      "                 threnos\n",
      "\n",
      "Beauty, truth, and rarity,\n",
      "Grace in all simplicity,\n",
      "Here enclos'd, in cinders lie.\n",
      "\n",
      "Death is now the Phoenix' nest,\n",
      "And the Turtle's loyal breast\n",
      "To eternity doth rest,\n",
      "\n",
      "Leaving no posterity:\n",
      "'Twas not their infirmity,\n",
      "It was married chastity.\n",
      "\n",
      "Truth may seem but cannot be;\n",
      "Beauty brag but 'tis not she;\n",
      "Truth and beauty buried be.\n",
      "\n",
      "To this urn let those repair\n",
      "That are either true or fair;\n",
      "For these dead birds sigh a prayer.\n"
     ]
    }
   ],
   "source": [
    "# Get a sample poem (e.g., the first one)\n",
    "sample_poem = train_dataset[0]\n",
    "\n",
    "print(\"\\n--- Sample Poem 1 ---\")\n",
    "print(f\"Poem Name: {sample_poem['poem name']}\")\n",
    "print(f\"Author: {sample_poem['author']}\")\n",
    "print(f\"Age (Era): {sample_poem['age']}\")\n",
    "print(f\"Type (Genre/Theme): {sample_poem['type']}\")\n",
    "print(\"\\nContent:\")\n",
    "print(sample_poem['content'])"
   ]
  },
  {
   "cell_type": "code",
   "execution_count": 9,
   "id": "7be6f048-a8b9-4c78-bfc4-642b4bb6c90e",
   "metadata": {},
   "outputs": [
    {
     "name": "stdout",
     "output_type": "stream",
     "text": [
      "\n",
      "--- Sample Poem 2 ---\n",
      "Poem Name: Amoretti LV: So oft as I her beauty do behold\n",
      "Author: EDMUND SPENSER\n",
      "Age (Era): Renaissance\n",
      "Type (Genre/Theme): Love\n",
      "\n",
      "Content:\n",
      "So oft as I her beauty do behold,\n",
      "And therewith do her cruelty compare,\n",
      "I marvel of what substance was the mould\n",
      "The which her made at once so cruel-fair.\n",
      "Not earth; for her high thoughts more heavenly are:\n",
      "Not water; for her love doth burn like fire:\n",
      "Not air; for she is not so light or rare:\n",
      "Not fire; for she doth freeze with faint desire.\n",
      "\n",
      "Then needs another element inquire\n",
      "Whereof she might be made; that is, the sky.\n",
      "For to the heaven her haughty looks aspire,\n",
      "And eke her love is pure immortal high.\n",
      "Then since to heaven ye likened are the best,\n",
      "Be like in mercy as in all the rest.\n"
     ]
    }
   ],
   "source": [
    "# Get another sample to show diversity\n",
    "sample_poem_2 = train_dataset[100] # Adjust index as needed\n",
    "\n",
    "print(\"\\n--- Sample Poem 2 ---\")\n",
    "print(f\"Poem Name: {sample_poem_2['poem name']}\")\n",
    "print(f\"Author: {sample_poem_2['author']}\")\n",
    "print(f\"Age (Era): {sample_poem_2['age']}\")\n",
    "print(f\"Type (Genre/Theme): {sample_poem_2['type']}\")\n",
    "print(\"\\nContent:\")\n",
    "print(sample_poem_2['content'])"
   ]
  },
  {
   "cell_type": "code",
   "execution_count": 11,
   "id": "481cfa67-1ee0-4ecb-a214-5dc8582445ce",
   "metadata": {},
   "outputs": [
    {
     "data": {
      "application/vnd.jupyter.widget-view+json": {
       "model_id": "ebbb611e54da4ceea8594a213ac7f9c9",
       "version_major": 2,
       "version_minor": 0
      },
      "text/plain": [
       "Filter:   0%|          | 0/573 [00:00<?, ? examples/s]"
      ]
     },
     "metadata": {},
     "output_type": "display_data"
    },
    {
     "name": "stdout",
     "output_type": "stream",
     "text": [
      "\n",
      "Number of Emily Dickinson poems: 0\n"
     ]
    }
   ],
   "source": [
    "# Example of filtering for a specific author\n",
    "# This will be crucial for your fine-tuning approach\n",
    "emily_dickinson_poems = train_dataset.filter(lambda example: example['author'] == 'Emily Dickinson')\n",
    "print(f\"\\nNumber of Emily Dickinson poems: {len(emily_dickinson_poems)}\")\n",
    "if len(emily_dickinson_poems) > 0:\n",
    "    print(\"\\n--- Sample Emily Dickinson Poem ---\")\n",
    "    print(f\"Poem Name: {emily_dickinson_poems[0]['poem name']}\")\n",
    "    print(f\"Author: {emily_dickinson_poems[0]['author']}\")\n",
    "    print(f\"Content:\\n{emily_dickinson_poems[0]['content']}\")"
   ]
  },
  {
   "cell_type": "code",
   "execution_count": 13,
   "id": "91f659a6-aadf-4124-955a-94f3454d4a4a",
   "metadata": {},
   "outputs": [
    {
     "data": {
      "application/vnd.jupyter.widget-view+json": {
       "model_id": "9733220313ea46e8826298429e818e5a",
       "version_major": 2,
       "version_minor": 0
      },
      "text/plain": [
       "Filter:   0%|          | 0/573 [00:00<?, ? examples/s]"
      ]
     },
     "metadata": {},
     "output_type": "display_data"
    },
    {
     "name": "stdout",
     "output_type": "stream",
     "text": [
      "\n",
      "Number of 'Love' poems: 326\n",
      "\n",
      "--- Sample 'Love' Poem ---\n",
      "Poem Name: Sonnet 34: Why didst thou promise such a beauteous day\n",
      "Author: WILLIAM SHAKESPEARE\n",
      "Type: Love\n",
      "Content:\n",
      "Why didst thou promise such a beauteous day,\n",
      "And make me travel forth without my cloak,\n",
      "To let base clouds oertake me in my way,\n",
      "Hiding thy bravery in their rotten smoke?\n",
      "Tis not enough that through the cloud thou break,\n",
      "To dry the rain on my storm-beaten face,\n",
      "For no man well of such a salve can speak\n",
      "That heals the wound and cures not the disgrace:\n",
      "Nor can thy shame give physic to my grief;\n",
      "Though thou repent, yet I have still the loss:\n",
      "The offenders sorrow lends but weak relief\n",
      "To him that bears the strong offences cross.\n",
      "   Ah! but those tears are pearl which thy love sheds,\n",
      "   And they are rich and ransom all ill deeds.\n",
      " \n",
      " \n",
      " \n"
     ]
    }
   ],
   "source": [
    "# Example of filtering for a specific type/genre\n",
    "love_poems = train_dataset.filter(lambda example: 'Love' in example['type']) # 'type' is a string, check for substring\n",
    "print(f\"\\nNumber of 'Love' poems: {len(love_poems)}\")\n",
    "if len(love_poems) > 0:\n",
    "    print(\"\\n--- Sample 'Love' Poem ---\")\n",
    "    print(f\"Poem Name: {love_poems[0]['poem name']}\")\n",
    "    print(f\"Author: {love_poems[0]['author']}\")\n",
    "    print(f\"Type: {love_poems[0]['type']}\")\n",
    "    print(f\"Content:\\n{love_poems[0]['content']}\")"
   ]
  },
  {
   "cell_type": "code",
   "execution_count": null,
   "id": "3e71cad3-8b6b-4d62-9da8-63dde261916e",
   "metadata": {},
   "outputs": [],
   "source": []
  }
 ],
 "metadata": {
  "kernelspec": {
   "display_name": "Python 3 (ipykernel)",
   "language": "python",
   "name": "python3"
  },
  "language_info": {
   "codemirror_mode": {
    "name": "ipython",
    "version": 3
   },
   "file_extension": ".py",
   "mimetype": "text/x-python",
   "name": "python",
   "nbconvert_exporter": "python",
   "pygments_lexer": "ipython3",
   "version": "3.12.4"
  }
 },
 "nbformat": 4,
 "nbformat_minor": 5
}
