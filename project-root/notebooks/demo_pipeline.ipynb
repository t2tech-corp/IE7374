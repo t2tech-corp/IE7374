{
 "cells": [
  {
   "cell_type": "code",
   "execution_count": 1,
   "id": "ce1b8e01-9e52-4df8-a1db-efe8257a7024",
   "metadata": {},
   "outputs": [
    {
     "name": "stdout",
     "output_type": "stream",
     "text": [
      "WARNING:tensorflow:From C:\\Users\\tterr\\anaconda3\\Lib\\site-packages\\tf_keras\\src\\losses.py:2976: The name tf.losses.sparse_softmax_cross_entropy is deprecated. Please use tf.compat.v1.losses.sparse_softmax_cross_entropy instead.\n",
      "\n"
     ]
    }
   ],
   "source": [
    "# notebooks/demo_pipeline.ipynb\n",
    "\n",
    "# Setup and Imports\n",
    "import os\n",
    "import sys\n",
    "\n",
    "# Add the project root to the Python path to import from src and utils\n",
    "# This assumes the notebook is in project-root/notebooks/\n",
    "project_root = os.path.abspath(os.path.join(os.getcwd(), '..'))\n",
    "if project_root not in sys.path:\n",
    "    sys.path.append(project_root)\n",
    "\n",
    "# Imports from src and utils\n",
    "from src.train import train_model\n",
    "from src.model_runner import generate_poem\n",
    "from src.data_loader import load_config"
   ]
  },
  {
   "cell_type": "code",
   "execution_count": 3,
   "id": "1ebf58bd-8d65-4160-810d-2ddf14f3bcac",
   "metadata": {},
   "outputs": [
    {
     "name": "stdout",
     "output_type": "stream",
     "text": [
      "{'model_name': 'EleutherAI/gpt-neo-1.3B', 'dataset_name': 'merve/poetry', 'output_dir': 'outputs/gpt_neo_renaissance_love_poems_lora', 'training': {'learning_rate': 0.0002, 'per_device_train_batch_size': 4, 'num_train_epochs': 3, 'logging_steps': 50, 'save_steps': 500, 'save_total_limit': 2, 'fp16': True}, 'lora': {'r': 8, 'lora_alpha': 16, 'lora_dropout': 0.05, 'bias': 'none', 'task_type': 'CAUSAL_LM'}, 'generation': {'prompt': \"O fairest rose that bloomed in summer's garden,\", 'max_length': 50, 'num_return_sequences': 1, 'no_repeat_ngram_size': 4, 'repetition_penalty': 1.2, 'num_beams': 5, 'do_sample': False}}\n"
     ]
    }
   ],
   "source": [
    "# View Configuration\n",
    "config = load_config(config_path=os.path.join(project_root, 'configs', 'model_config.yaml'))\n",
    "print(config)"
   ]
  },
  {
   "cell_type": "code",
   "execution_count": 5,
   "id": "a15f75a8-9395-4f08-9107-d5501b76bd19",
   "metadata": {},
   "outputs": [
    {
     "name": "stdout",
     "output_type": "stream",
     "text": [
      "Current notebook directory: C:\\Users\\tterr\\IE7374 Project Structured\\project-root\\notebooks\n"
     ]
    }
   ],
   "source": [
    "# 1. Get the current directory of the notebook\n",
    "current_notebook_dir = os.getcwd()\n",
    "print(f\"Current notebook directory: {current_notebook_dir}\")"
   ]
  },
  {
   "cell_type": "code",
   "execution_count": 7,
   "id": "edaba227-19b4-4f88-ac8c-5319e5fef423",
   "metadata": {},
   "outputs": [
    {
     "name": "stdout",
     "output_type": "stream",
     "text": [
      "Calculated project root: C:\\Users\\tterr\\IE7374 Project Structured\\project-root\n"
     ]
    }
   ],
   "source": [
    "# 2. Calculate the path to the project-root directory\n",
    "project_root = os.path.abspath(os.path.join(current_notebook_dir, '..'))\n",
    "print(f\"Calculated project root: {project_root}\")"
   ]
  },
  {
   "cell_type": "code",
   "execution_count": 9,
   "id": "aa743eb9-30f9-45ad-8c0b-190ae2a06610",
   "metadata": {},
   "outputs": [
    {
     "name": "stdout",
     "output_type": "stream",
     "text": [
      "Changed CWD to: C:\\Users\\tterr\\IE7374 Project Structured\\project-root\n"
     ]
    }
   ],
   "source": [
    "# 3. Temporarily change the current working directory to project_root\n",
    "os.chdir(project_root)\n",
    "print(f\"Changed CWD to: {os.getcwd()}\")"
   ]
  },
  {
   "cell_type": "code",
   "execution_count": 11,
   "id": "5704e2a7-c2b3-4017-8fa8-7fac07040870",
   "metadata": {},
   "outputs": [
    {
     "name": "stdout",
     "output_type": "stream",
     "text": [
      "\n",
      "Installing requirements...\n",
      "Looking in indexes: https://pypi.org/simple, https://pypi.ngc.nvidia.com\n",
      "Requirement already satisfied: transformers in c:\\users\\tterr\\anaconda3\\lib\\site-packages (from -r requirements.txt (line 3)) (4.48.3)\n",
      "Requirement already satisfied: datasets in c:\\users\\tterr\\anaconda3\\lib\\site-packages (from -r requirements.txt (line 4)) (3.3.0)\n",
      "Requirement already satisfied: peft in c:\\users\\tterr\\anaconda3\\lib\\site-packages (from -r requirements.txt (line 5)) (0.7.1)\n",
      "Requirement already satisfied: torch in c:\\users\\tterr\\anaconda3\\lib\\site-packages (from -r requirements.txt (line 6)) (2.6.0+cu118)\n",
      "Requirement already satisfied: safetensors in c:\\users\\tterr\\anaconda3\\lib\\site-packages (from -r requirements.txt (line 7)) (0.5.2)\n",
      "Requirement already satisfied: requests in c:\\users\\tterr\\anaconda3\\lib\\site-packages (from -r requirements.txt (line 8)) (2.32.2)\n",
      "Requirement already satisfied: pyyaml in c:\\users\\tterr\\anaconda3\\lib\\site-packages (from -r requirements.txt (line 9)) (6.0.1)\n",
      "Requirement already satisfied: accelerate in c:\\users\\tterr\\anaconda3\\lib\\site-packages (from -r requirements.txt (line 10)) (1.8.1)\n",
      "Requirement already satisfied: filelock in c:\\users\\tterr\\anaconda3\\lib\\site-packages (from transformers->-r requirements.txt (line 3)) (3.13.1)\n",
      "Requirement already satisfied: huggingface-hub<1.0,>=0.24.0 in c:\\users\\tterr\\anaconda3\\lib\\site-packages (from transformers->-r requirements.txt (line 3)) (0.28.1)\n",
      "Requirement already satisfied: numpy>=1.17 in c:\\users\\tterr\\anaconda3\\lib\\site-packages (from transformers->-r requirements.txt (line 3)) (1.26.4)\n",
      "Requirement already satisfied: packaging>=20.0 in c:\\users\\tterr\\anaconda3\\lib\\site-packages (from transformers->-r requirements.txt (line 3)) (23.2)\n",
      "Requirement already satisfied: regex!=2019.12.17 in c:\\users\\tterr\\anaconda3\\lib\\site-packages (from transformers->-r requirements.txt (line 3)) (2023.10.3)\n",
      "Requirement already satisfied: tokenizers<0.22,>=0.21 in c:\\users\\tterr\\anaconda3\\lib\\site-packages (from transformers->-r requirements.txt (line 3)) (0.21.0)\n",
      "Requirement already satisfied: tqdm>=4.27 in c:\\users\\tterr\\anaconda3\\lib\\site-packages (from transformers->-r requirements.txt (line 3)) (4.66.4)\n",
      "Requirement already satisfied: pyarrow>=15.0.0 in c:\\users\\tterr\\anaconda3\\lib\\site-packages (from datasets->-r requirements.txt (line 4)) (19.0.0)\n",
      "Requirement already satisfied: dill<0.3.9,>=0.3.0 in c:\\users\\tterr\\anaconda3\\lib\\site-packages (from datasets->-r requirements.txt (line 4)) (0.3.8)\n",
      "Requirement already satisfied: pandas in c:\\users\\tterr\\anaconda3\\lib\\site-packages (from datasets->-r requirements.txt (line 4)) (2.2.2)\n",
      "Requirement already satisfied: xxhash in c:\\users\\tterr\\anaconda3\\lib\\site-packages (from datasets->-r requirements.txt (line 4)) (3.5.0)\n",
      "Requirement already satisfied: multiprocess<0.70.17 in c:\\users\\tterr\\anaconda3\\lib\\site-packages (from datasets->-r requirements.txt (line 4)) (0.70.16)\n",
      "Requirement already satisfied: fsspec<=2024.12.0,>=2023.1.0 in c:\\users\\tterr\\anaconda3\\lib\\site-packages (from fsspec[http]<=2024.12.0,>=2023.1.0->datasets->-r requirements.txt (line 4)) (2024.3.1)\n",
      "Requirement already satisfied: aiohttp in c:\\users\\tterr\\anaconda3\\lib\\site-packages (from datasets->-r requirements.txt (line 4)) (3.9.5)\n",
      "Requirement already satisfied: psutil in c:\\users\\tterr\\anaconda3\\lib\\site-packages (from peft->-r requirements.txt (line 5)) (5.9.0)\n",
      "Requirement already satisfied: typing-extensions>=4.10.0 in c:\\users\\tterr\\anaconda3\\lib\\site-packages (from torch->-r requirements.txt (line 6)) (4.12.2)\n",
      "Requirement already satisfied: networkx in c:\\users\\tterr\\anaconda3\\lib\\site-packages (from torch->-r requirements.txt (line 6)) (3.2.1)\n",
      "Requirement already satisfied: jinja2 in c:\\users\\tterr\\anaconda3\\lib\\site-packages (from torch->-r requirements.txt (line 6)) (3.1.4)\n",
      "Requirement already satisfied: setuptools in c:\\users\\tterr\\anaconda3\\lib\\site-packages (from torch->-r requirements.txt (line 6)) (69.5.1)\n",
      "Requirement already satisfied: sympy==1.13.1 in c:\\users\\tterr\\anaconda3\\lib\\site-packages (from torch->-r requirements.txt (line 6)) (1.13.1)\n",
      "Requirement already satisfied: mpmath<1.4,>=1.1.0 in c:\\users\\tterr\\anaconda3\\lib\\site-packages (from sympy==1.13.1->torch->-r requirements.txt (line 6)) (1.3.0)\n",
      "Requirement already satisfied: charset-normalizer<4,>=2 in c:\\users\\tterr\\anaconda3\\lib\\site-packages (from requests->-r requirements.txt (line 8)) (2.0.4)\n",
      "Requirement already satisfied: idna<4,>=2.5 in c:\\users\\tterr\\anaconda3\\lib\\site-packages (from requests->-r requirements.txt (line 8)) (3.7)\n",
      "Requirement already satisfied: urllib3<3,>=1.21.1 in c:\\users\\tterr\\anaconda3\\lib\\site-packages (from requests->-r requirements.txt (line 8)) (1.26.20)\n",
      "Requirement already satisfied: certifi>=2017.4.17 in c:\\users\\tterr\\anaconda3\\lib\\site-packages (from requests->-r requirements.txt (line 8)) (2024.12.14)\n",
      "Requirement already satisfied: aiosignal>=1.1.2 in c:\\users\\tterr\\anaconda3\\lib\\site-packages (from aiohttp->datasets->-r requirements.txt (line 4)) (1.2.0)\n",
      "Requirement already satisfied: attrs>=17.3.0 in c:\\users\\tterr\\anaconda3\\lib\\site-packages (from aiohttp->datasets->-r requirements.txt (line 4)) (23.1.0)\n",
      "Requirement already satisfied: frozenlist>=1.1.1 in c:\\users\\tterr\\anaconda3\\lib\\site-packages (from aiohttp->datasets->-r requirements.txt (line 4)) (1.4.0)\n",
      "Requirement already satisfied: multidict<7.0,>=4.5 in c:\\users\\tterr\\anaconda3\\lib\\site-packages (from aiohttp->datasets->-r requirements.txt (line 4)) (6.0.4)\n",
      "Requirement already satisfied: yarl<2.0,>=1.0 in c:\\users\\tterr\\anaconda3\\lib\\site-packages (from aiohttp->datasets->-r requirements.txt (line 4)) (1.9.3)\n",
      "Requirement already satisfied: colorama in c:\\users\\tterr\\anaconda3\\lib\\site-packages (from tqdm>=4.27->transformers->-r requirements.txt (line 3)) (0.4.6)\n",
      "Requirement already satisfied: MarkupSafe>=2.0 in c:\\users\\tterr\\anaconda3\\lib\\site-packages (from jinja2->torch->-r requirements.txt (line 6)) (2.1.3)\n",
      "Requirement already satisfied: python-dateutil>=2.8.2 in c:\\users\\tterr\\anaconda3\\lib\\site-packages (from pandas->datasets->-r requirements.txt (line 4)) (2.9.0.post0)\n",
      "Requirement already satisfied: pytz>=2020.1 in c:\\users\\tterr\\anaconda3\\lib\\site-packages (from pandas->datasets->-r requirements.txt (line 4)) (2024.1)\n",
      "Requirement already satisfied: tzdata>=2022.7 in c:\\users\\tterr\\anaconda3\\lib\\site-packages (from pandas->datasets->-r requirements.txt (line 4)) (2023.3)\n",
      "Requirement already satisfied: six>=1.5 in c:\\users\\tterr\\anaconda3\\lib\\site-packages (from python-dateutil>=2.8.2->pandas->datasets->-r requirements.txt (line 4)) (1.16.0)\n"
     ]
    }
   ],
   "source": [
    "# 4. Run the pip install command from the project_root\n",
    "print(\"\\nInstalling requirements...\")\n",
    "!pip install -r requirements.txt"
   ]
  },
  {
   "cell_type": "code",
   "execution_count": 13,
   "id": "66b5afcc-529e-4c9e-bd90-86d3d3c423f7",
   "metadata": {},
   "outputs": [
    {
     "name": "stdout",
     "output_type": "stream",
     "text": [
      "\n",
      "Changed CWD back to: C:\\Users\\tterr\\IE7374 Project Structured\\project-root\\notebooks\n",
      "\n",
      "Requirements installation complete. Remember to restart your Jupyter kernel if you encounter any import errors for newly installed packages.\n"
     ]
    }
   ],
   "source": [
    "# 5. Change the CWD back to the notebook's original directory\n",
    "os.chdir(current_notebook_dir)\n",
    "print(f\"\\nChanged CWD back to: {os.getcwd()}\")\n",
    "\n",
    "print(\"\\nRequirements installation complete. Remember to restart your Jupyter kernel if you encounter any import errors for newly installed packages.\")"
   ]
  },
  {
   "cell_type": "code",
   "execution_count": 15,
   "id": "1acbe75a-e043-4291-b646-d3483e3d9707",
   "metadata": {},
   "outputs": [
    {
     "name": "stdout",
     "output_type": "stream",
     "text": [
      "Loading tokenizer: EleutherAI/gpt-neo-1.3B\n",
      "Loading dataset: merve/poetry\n"
     ]
    },
    {
     "name": "stderr",
     "output_type": "stream",
     "text": [
      "Repo card metadata block was not found. Setting CardData to empty.\n"
     ]
    },
    {
     "data": {
      "application/vnd.jupyter.widget-view+json": {
       "model_id": "09cd87be4df34303a648172bc6921c36",
       "version_major": 2,
       "version_minor": 0
      },
      "text/plain": [
       "Filter:   0%|          | 0/573 [00:00<?, ? examples/s]"
      ]
     },
     "metadata": {},
     "output_type": "display_data"
    },
    {
     "name": "stdout",
     "output_type": "stream",
     "text": [
      "Original dataset size: 573\n",
      "Filtered dataset size (Renaissance Love Poems): 315\n"
     ]
    },
    {
     "data": {
      "application/vnd.jupyter.widget-view+json": {
       "model_id": "bb9fd30e68134dff8cf06943a5a06e76",
       "version_major": 2,
       "version_minor": 0
      },
      "text/plain": [
       "Map:   0%|          | 0/315 [00:00<?, ? examples/s]"
      ]
     },
     "metadata": {},
     "output_type": "display_data"
    },
    {
     "name": "stdout",
     "output_type": "stream",
     "text": [
      "Loading model: EleutherAI/gpt-neo-1.3B\n",
      "trainable params: 1,572,864 || all params: 1,317,148,672 || trainable%: 0.11941431012580485\n",
      "Starting fine-tuning...\n"
     ]
    },
    {
     "data": {
      "text/html": [
       "\n",
       "    <div>\n",
       "      \n",
       "      <progress value='237' max='237' style='width:300px; height:20px; vertical-align: middle;'></progress>\n",
       "      [237/237 10:03, Epoch 3/3]\n",
       "    </div>\n",
       "    <table border=\"1\" class=\"dataframe\">\n",
       "  <thead>\n",
       " <tr style=\"text-align: left;\">\n",
       "      <th>Step</th>\n",
       "      <th>Training Loss</th>\n",
       "    </tr>\n",
       "  </thead>\n",
       "  <tbody>\n",
       "    <tr>\n",
       "      <td>50</td>\n",
       "      <td>3.572400</td>\n",
       "    </tr>\n",
       "    <tr>\n",
       "      <td>100</td>\n",
       "      <td>3.419000</td>\n",
       "    </tr>\n",
       "    <tr>\n",
       "      <td>150</td>\n",
       "      <td>3.318300</td>\n",
       "    </tr>\n",
       "    <tr>\n",
       "      <td>200</td>\n",
       "      <td>3.174700</td>\n",
       "    </tr>\n",
       "  </tbody>\n",
       "</table><p>"
      ],
      "text/plain": [
       "<IPython.core.display.HTML object>"
      ]
     },
     "metadata": {},
     "output_type": "display_data"
    },
    {
     "name": "stdout",
     "output_type": "stream",
     "text": [
      "Fine-tuning complete! Model and tokenizer saved to C:\\Users\\tterr\\IE7374 Project Structured\\project-root\\outputs/gpt_neo_renaissance_love_poems_lora\n"
     ]
    }
   ],
   "source": [
    "# Run Training\n",
    "train_model()"
   ]
  },
  {
   "cell_type": "markdown",
   "id": "9c4491e7-db5d-489b-9394-bf6c9548580e",
   "metadata": {},
   "source": [
    "#### Sample Prompts for Testing\n",
    "*  \"O, thou my soul's most radiant star,\"\n",
    "*  \"Ah, sweet delight, my heart's true guide,\"\n",
    "*  \"Come, gentle breeze, that whispers low,\"\n",
    "*  \"Bright as the sun, my dearest love,\"\n",
    "*  \"O, how thy beauty doth amaze my sight,\"\n",
    "*  \"Soft as the dawn, thy grace appears,\"\n",
    "*  \"My true love's gaze, a heaven's light,\"\n",
    "*  \"When first I saw thy heavenly face,\"\n",
    "*  \"Lover divine, whose tender touch,\"\n",
    "*  \"Amidst the stars, my constant flame,\"\n",
    "\n",
    "**Copy and Paste to ``prompt=\"\"`` in below code chunk**"
   ]
  },
  {
   "cell_type": "code",
   "execution_count": 41,
   "id": "943640bc-8c8e-43a5-a95a-9fd1508f6d1f",
   "metadata": {},
   "outputs": [
    {
     "name": "stdout",
     "output_type": "stream",
     "text": [
      "Prompt: Amidst the stars, my constant flame,\n",
      "Generated Poem:\n",
      " Amidst the stars, my constant flame,\n",
      "\n",
      "I’ve been searching for you all my life.\n",
      "\n",
      "You’re the only one I’ve ever loved,\n",
      "\n",
      "the only one I can’t live\n",
      "Generated sample saved to C:\\Users\\tterr\\IE7374 Project Structured\\project-root\\outputs/gpt_neo_renaissance_love_poems_lora\\samples.txt\n",
      "Amidst the stars, my constant flame,\n",
      "\n",
      "I’ve been searching for you all my life.\n",
      "\n",
      "You’re the only one I’ve ever loved,\n",
      "\n",
      "the only one I can’t live\n"
     ]
    }
   ],
   "source": [
    "# Generate a Poem After Training\n",
    "generated_text = generate_poem(prompt=\"Amidst the stars, my constant flame,\")\n",
    "print(generated_text)"
   ]
  },
  {
   "cell_type": "code",
   "execution_count": 19,
   "id": "b6b52213-5149-4813-bb1a-63d891ea9277",
   "metadata": {},
   "outputs": [
    {
     "name": "stdout",
     "output_type": "stream",
     "text": [
      "Prompt: O fairest rose that bloomed in summer's garden,\n",
      "Generated Poem:\n",
      " O fairest rose that bloomed in summer's garden,\n",
      "     The fairest flower that ever grew,\n",
      "  And the fairest of them all, the fairest rose,\n",
      "  Was the fairest that ever bloomed\n",
      "Generated sample saved to C:\\Users\\tterr\\IE7374 Project Structured\\project-root\\outputs/gpt_neo_renaissance_love_poems_lora\\samples.txt\n",
      "O fairest rose that bloomed in summer's garden,\n",
      "     The fairest flower that ever grew,\n",
      "  And the fairest of them all, the fairest rose,\n",
      "  Was the fairest that ever bloomed\n"
     ]
    }
   ],
   "source": [
    "# Generate a poem with default prompt\n",
    "# Default Prompt = \"O fairest rose that bloomed in summer's garden,\"\n",
    "generated_text_default = generate_poem(prompt=None)\n",
    "print(generated_text_default)"
   ]
  },
  {
   "cell_type": "code",
   "execution_count": null,
   "id": "63c450d7-b4fc-4ddf-aa1e-e4d9ab1570ed",
   "metadata": {},
   "outputs": [],
   "source": []
  }
 ],
 "metadata": {
  "kernelspec": {
   "display_name": "Python 3 (ipykernel)",
   "language": "python",
   "name": "python3"
  },
  "language_info": {
   "codemirror_mode": {
    "name": "ipython",
    "version": 3
   },
   "file_extension": ".py",
   "mimetype": "text/x-python",
   "name": "python",
   "nbconvert_exporter": "python",
   "pygments_lexer": "ipython3",
   "version": "3.12.4"
  }
 },
 "nbformat": 4,
 "nbformat_minor": 5
}
